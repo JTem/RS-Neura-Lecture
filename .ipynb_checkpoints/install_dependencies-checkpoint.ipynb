{
 "cells": [
  {
   "cell_type": "code",
   "execution_count": null,
   "id": "f2472917-3f82-4ecf-999a-c17efda201c3",
   "metadata": {},
   "outputs": [],
   "source": [
    "%pip install neura-dual-quaternions\n",
    "%pip install neura-roboticstoolbox"
   ]
  },
  {
   "cell_type": "code",
   "execution_count": 1,
   "id": "dcb2b3fb-176b-49f4-a37e-dea8083ab807",
   "metadata": {
    "tags": []
   },
   "outputs": [],
   "source": [
    "from IPython.display import HTML, Video, display"
   ]
  },
  {
   "cell_type": "code",
   "execution_count": null,
   "id": "7fac3823-0275-4fbd-8af6-f604f18cf24f",
   "metadata": {},
   "outputs": [],
   "source": []
  }
 ],
 "metadata": {
  "kernelspec": {
   "display_name": "Python 3 (ipykernel)",
   "language": "python",
   "name": "python3"
  },
  "language_info": {
   "codemirror_mode": {
    "name": "ipython",
    "version": 3
   },
   "file_extension": ".py",
   "mimetype": "text/x-python",
   "name": "python",
   "nbconvert_exporter": "python",
   "pygments_lexer": "ipython3",
   "version": "3.11.5"
  }
 },
 "nbformat": 4,
 "nbformat_minor": 5
}
