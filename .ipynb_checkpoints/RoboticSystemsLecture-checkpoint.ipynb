{
 "cells": [
  {
   "cell_type": "code",
   "execution_count": 8,
   "id": "b49e7e12-34f5-464e-9cb5-b189effffc9c",
   "metadata": {
    "slideshow": {
     "slide_type": "skip"
    },
    "tags": []
   },
   "outputs": [],
   "source": [
    "%matplotlib widget\n",
    "from IPython.display import HTML, Video, display\n",
    "import ipywidgets as widgets\n",
    "import numpy as np\n",
    "import roboticstoolbox as rtb\n",
    "import spatialgeometry as sg\n",
    "import spatialmath as sm\n",
    "from swift import Swift\n",
    "import random\n",
    "from collections import deque\n",
    "\n",
    "import matplotlib.gridspec as gridspec\n",
    "import matplotlib.pyplot as plt\n",
    "from matplotlib.colors import LightSource\n",
    "from mpl_toolkits.mplot3d import Axes3D\n",
    "from neura_dual_quaternions import Quaternion, DualQuaternion\n",
    "\n",
    "np.set_printoptions(precision=2, suppress=True, linewidth=200, formatter={'float': '{:8.3f}'.format})"
   ]
  },
  {
   "cell_type": "code",
   "execution_count": 9,
   "id": "6b704ce1-672d-4e54-8a60-0102094ee8ed",
   "metadata": {
    "slideshow": {
     "slide_type": "skip"
    },
    "tags": []
   },
   "outputs": [],
   "source": [
    "def create_3d_plot(qr = Quaternion(1,0,0,0)):\n",
    "    \n",
    "    plt.ioff()\n",
    "    \n",
    "    fig = plt.figure(figsize=(12, 6))\n",
    "    ax = fig.add_subplot(111, projection='3d')\n",
    "    fig.canvas.header_visible = False\n",
    "    fig.canvas.layout.min_height = '400px'\n",
    "    ax.set_xlim([-1, 1])\n",
    "    ax.set_ylim([-1, 1])\n",
    "    ax.set_zlim([-1, 1])\n",
    "    ax.set_axis_off()\n",
    "    ax.set_box_aspect([1, 1, 1])\n",
    "    ax.set_facecolor('white')\n",
    "    \n",
    "    for spine in ax.spines.values():\n",
    "        spine.set_visible(False)\n",
    "\n",
    "    plt.tight_layout()\n",
    "    \n",
    "    start_point = [0, 0, 0]\n",
    "    R_base = qr.asRotationMatrix()*1.5\n",
    "    draw_frame(ax, start_point, R_base)\n",
    "    \n",
    "    return fig, ax\n",
    "\n",
    "def draw_frame(ax, start_point, R):\n",
    "    \n",
    "    x_axis = ax.quiver(*start_point, *R[:,0], arrow_length_ratio = 0.1, linewidth = 1, color='r')\n",
    "    y_axis = ax.quiver(*start_point, *R[:,1], arrow_length_ratio = 0.1, linewidth = 1, color='g')\n",
    "    z_axis = ax.quiver(*start_point, *R[:,2], arrow_length_ratio = 0.1, linewidth = 1, color='b')\n",
    "    return x_axis, y_axis, z_axis\n",
    "\n",
    "def create_slider(name, start_val, min_val, max_val):\n",
    "    slider_width = '70%'\n",
    "\n",
    "    slider = widgets.FloatSlider(orientation='horizontal',description=name, value=start_val, min=min_val, max=max_val, step = 0.01, layout={'width': slider_width})\n",
    "    return slider\n",
    "\n",
    "def create_angle_slider(name):\n",
    "    slider_width = '70%'\n",
    "\n",
    "    slider = widgets.FloatSlider(orientation='horizontal',description=name, value=0.0, min=-2*np.pi, max=2*np.pi, step = 0.01, layout={'width': slider_width})\n",
    "    return slider\n",
    "  \n",
    "def create_quaternion_sliders():\n",
    "    slider_width = '70%'\n",
    "\n",
    "    angle_slider = widgets.FloatSlider(orientation='horizontal',description='angle:', value=0.0, min=-2*np.pi, max=2*np.pi, step = 0.01, layout={'width': slider_width})\n",
    "    azimuth_slider = widgets.FloatSlider( orientation='horizontal', description='Rotationaxis azimuth:', value=0.0, min=-np.pi, max=np.pi, step=0.01, layout={'width': slider_width})\n",
    "    elevation_slider = widgets.FloatSlider(orientation='horizontal', description='Rotationaxis elevation:', value=0.0, min=-np.pi/2, max=np.pi/2, step=0.01, layout={'width': slider_width})\n",
    "    \n",
    "    return angle_slider, azimuth_slider, elevation_slider\n",
    "\n",
    "def create_position_sliders():\n",
    "    slider_width = '70%'\n",
    "\n",
    "    x_slider = widgets.FloatSlider(orientation='horizontal',description='x pos:', value=0.0, min=-1, max=1, step = 0.01, layout={'width': slider_width})\n",
    "    y_slider = widgets.FloatSlider( orientation='horizontal', description='y pos:', value=0.0, min=-1, max=1, step=0.01, layout={'width': slider_width})\n",
    "    z_slider = widgets.FloatSlider(orientation='horizontal', description='z pos:', value=0.0, min=-1, max=1, step=0.01, layout={'width': slider_width})\n",
    "    \n",
    "    return x_slider, y_slider, z_slider\n",
    "\n",
    "def spherical_coordinates(azimuth, elevation):\n",
    "    x = np.sin(np.pi/2 -elevation) * np.cos(azimuth)\n",
    "    y = np.sin(np.pi/2 -elevation) * np.sin(azimuth)\n",
    "    z = np.cos(np.pi/2 -elevation)\n",
    "    vector = np.array([x, y, z])\n",
    "    return vector\n",
    "\n",
    "def create_textbox(name):\n",
    "    slider_width = '70%'\n",
    "    display = widgets.Text(description=name, value='', layout={'width': slider_width})\n",
    "    return display\n",
    "\n",
    "def create_quiver(ax, start_point, direction, w, c):\n",
    "    quiver = ax.quiver(*start_point, *direction, arrow_length_ratio=0.1, linewidth = w, color = c)\n",
    "    return quiver\n",
    "    \n",
    "def update_arc(arc, quaternion, p):\n",
    "    t_values = np.linspace(0, 1, 50)\n",
    "    arc_points = np.array([(Quaternion.slerp(Quaternion(1,0,0,0), quaternion, t)*p*Quaternion.slerp(Quaternion(1,0,0,0), quaternion, t).inverse()).getVector().flatten() for t in t_values])\n",
    "\n",
    "    arc.set_data(arc_points[:,0], arc_points[:,1])\n",
    "    arc.set_3d_properties(arc_points[:,2])\n",
    "    \n",
    "def draw_sphere(ax, r):\n",
    "    u = np.linspace(0, 2 * np.pi, 20)\n",
    "    v = np.linspace(0, np.pi, 20)\n",
    "\n",
    "    light = LightSource(azdeg=0, altdeg=45)\n",
    "    x = r * np.outer(np.cos(u), np.sin(v))\n",
    "    y = r * np.outer(np.sin(u), np.sin(v))\n",
    "    z = r * np.outer(np.ones(np.size(u)), np.cos(v))\n",
    "    shaded = light.shade(z, cmap=plt.cm.Greys, vert_exag=1, blend_mode='soft')\n",
    "    sphere = ax.plot_surface(x, y, z, facecolors=shaded, linewidth=0, antialiased=True, alpha=0.05)\n",
    "    sphere_wire = ax.plot_wireframe(x, y, z, color='k', linewidth=0.4, alpha=0.1)\n",
    "    return sphere, sphere_wire\n",
    "\n",
    "def rpy_from_R(R):  \n",
    "    # calculation of roll pitch yaw angles from rotation matrix\n",
    "    yaw = np.arctan2(R[1, 0], R[0, 0])\n",
    "    pitch = np.arctan2(-R[2, 0], np.sqrt(R[2, 1]**2 + R[2, 2]**2))\n",
    "    roll = np.arctan2(R[2, 1], R[2, 2])\n",
    "    \n",
    "    return roll, pitch, yaw\n",
    "\n",
    "def Rot_rpy(roll, pitch, yaw):\n",
    "    \n",
    "    # Roll matrix\n",
    "    Rx = np.array([[1, 0, 0],\n",
    "                    [0, np.cos(roll), -np.sin(roll)],\n",
    "                    [0, np.sin(roll), np.cos(roll)]])\n",
    "    \n",
    "    # Pitch matrix\n",
    "    Ry = np.array([[np.cos(pitch), 0, np.sin(pitch)],\n",
    "                    [0, 1, 0],\n",
    "                    [-np.sin(pitch), 0, np.cos(pitch)]])\n",
    "    \n",
    "    # Yaw matrix\n",
    "    Rz = np.array([[np.cos(yaw), -np.sin(yaw), 0],\n",
    "                    [np.sin(yaw), np.cos(yaw), 0],\n",
    "                    [0, 0, 1]])\n",
    "    \n",
    "    # Combined rotation matrix\n",
    "    R = Rz@Ry@Rx\n",
    "    return R\n",
    "\n",
    "# add function to update the model and the 'real' robot\n",
    "def update_robot(q1, q2, q3, q4, q5, q6, q7):\n",
    "    joint_angles = np.array([q1, q2, q3, q4, q5, q6, q7])\n",
    "    \n",
    "    maira_model.q = joint_angles\n",
    "    maira_real.q = joint_angles\n",
    "    \n",
    "    T_ee_model.T = maira_model.fkine(maira_model.q)\n",
    "    T_ee_real.T = maira_real.fkine(maira_real.q)\n",
    "    \n",
    "    env.step()\n",
    "\n",
    "def show_sliders(function):\n",
    "    # setup sliders to control the joint angles\n",
    "    slider_width = '80%'\n",
    "    w1 = widgets.FloatSlider(value = 0, min = -3.14, max = 3.14, step = 0.01, description = \"joint angle 1\", layout={'width': slider_width})\n",
    "    w2 = widgets.FloatSlider(value = 0, min = -2.14, max = 2.14, step = 0.01, description = \"joint angle 2\", layout={'width': slider_width})\n",
    "    w3 = widgets.FloatSlider(value = 0, min = -3.14, max = 3.14, step = 0.01, description = \"joint angle 3\", layout={'width': slider_width})\n",
    "    w4 = widgets.FloatSlider(value = 0, min = -2.14, max = 2.14, step = 0.01, description = \"joint angle 4\", layout={'width': slider_width})\n",
    "    w5 = widgets.FloatSlider(value = 0, min = -3.14, max = 3.14, step = 0.01, description = \"joint angle 5\", layout={'width': slider_width})\n",
    "    w6 = widgets.FloatSlider(value = 0, min = -3.14, max = 3.14, step = 0.01, description = \"joint angle 6\", layout={'width': slider_width})\n",
    "    w7 = widgets.FloatSlider(value = 0, min = -3.14, max = 3.14, step = 0.01, description = \"joint angle 7\", layout={'width': slider_width})\n",
    "    sliders = widgets.interactive(function, q1 = w1, q2=w2, q3=w3, q4=w4, q5=w5, q6=w6, q7=w7)\n",
    "    display(sliders)"
   ]
  },
  {
   "cell_type": "markdown",
   "id": "72e95a90-b3ca-49af-9946-a6f3f924592b",
   "metadata": {
    "slideshow": {
     "slide_type": "slide"
    },
    "tags": []
   },
   "source": [
    "<div style=\"font-family: 'Helvetica Neue', Arial, sans-serif;padding: 10px; text-align: center;\">\n",
    "\n",
    "<!-- Logo -->\n",
    "<div style=\"margin-bottom: 40px;\">\n",
    "    <!-- Using the logo from the data folder and making it bigger -->\n",
    "    <img src=\"./data/neura_logo_black.png\" alt=\"Neura Robotics Logo\" style=\"max-width: 600px; width: 100%;\">\n",
    "</div>\n",
    "\n",
    "<!-- Introduction -->\n",
    "<div style=\"max-width: 1200px;font-family: 'Helvetica Neue', Arial, sans-serif; margin: 0 auto;\">\n",
    "    <!-- Making the headline a link to the Neura Robotics website -->\n",
    "    <h1 style=\"font-size: 4.5em; margin-bottom: 20px;\">Welcome to the Lecture</h1>\n",
    "\n",
    "</div>\n",
    "\n",
    "<div style=\"margin-bottom: 40px;\">\n",
    "    <!-- Using the logo from the data folder and making it bigger -->\n",
    "    <img src=\"./data/maira.png\" alt=\"Neura Robotics Logo\" style=\"max-width: 1800px; width: 100%;\">\n",
    "</div>\n",
    "\n",
    "\n",
    "\n",
    "</div>"
   ]
  },
  {
   "cell_type": "markdown",
   "id": "c526b158-8505-494e-8484-b44bda6e830c",
   "metadata": {
    "slideshow": {
     "slide_type": "slide"
    },
    "tags": []
   },
   "source": [
    "<h1 style=\"font-family: 'Helvetica Neue', Arial, sans-serif; border-bottom: 2px solid #ddd; padding-bottom: 10px;\">About Neura</h1>\n",
    "<div style=\"font-family: 'Helvetica Neue', Arial, sans-serif; display: flex; justify-content: space-between;\">\n",
    "\n",
    "<!-- Left column for text -->\n",
    "<div style=\"width: 48%;\">\n",
    "<h2> General Information </h2>\n",
    "<ul>\n",
    "    <li>140+ employees</li>\n",
    "    <li>25+ nationalities</li>\n",
    "    <li>$86+ Mio. funding</li>\n",
    "    <li>German Company</li>\n",
    "</ul>\n",
    "</div>\n",
    "\n",
    "<!-- Right column for image -->\n",
    "<div style=\"width: 80%;\">\n",
    "    <img src=\"./data/location_map.png\" alt=\"MAV Robot\" style=\"max-width: 700px; width: 100%;\">\n",
    "</div>\n",
    "\n",
    "</div>"
   ]
  },
  {
   "cell_type": "markdown",
   "id": "cca1d05e-824a-48ec-957c-6515a2c671d6",
   "metadata": {
    "slideshow": {
     "slide_type": "slide"
    },
    "tags": []
   },
   "source": [
    "<div style=\"font-family: 'Helvetica Neue', Arial, sans-serif;\">\n",
    "\n",
    "\n",
    "<h1 style=\"font-size: 4.5em; border-bottom: 2px solid #ddd; padding-bottom: 10px;\">About Neura</h1>\n",
    "<h2>Why dont we have more robots in our lives?</h2>\n",
    "<ul>\n",
    "    <li class=\"fragment\">can't recognize humans</li>\n",
    "    <li class=\"fragment\">no integrated senses</li>\n",
    "    <li class=\"fragment\">unable to predict</li>\n",
    "    <li class=\"fragment\">not affordable</li>\n",
    "    <li class=\"fragment\">no <strong>FULL AUTONOMY</strong></li>\n",
    "</ul>\n",
    "\n",
    "\n",
    "</div>"
   ]
  },
  {
   "cell_type": "markdown",
   "id": "e2b18f7a-31a3-42b4-a92a-4a5678e9e6ae",
   "metadata": {
    "slideshow": {
     "slide_type": "slide"
    },
    "tags": []
   },
   "source": [
    "<div style=\"font-family: 'Helvetica Neue', Arial, sans-serif;\">\n",
    "\n",
    "\n",
    "<h1 style=\"font-size: 4.5em; border-bottom: 2px solid #ddd; padding-bottom: 10px;\">About Neura</h1>\n",
    "<h2>What Neura does about it</h2>\n",
    "<ul>\n",
    "    <li class=\"fragment\">Technology Development in the area of <strong>ROBOTICS</strong> (from low level to high level)</li>\n",
    "    <li class=\"fragment\">Provide <strong>EASY TO USE</strong> solutions</li>\n",
    "    <li class=\"fragment\">As much <strong>IN HOUSE TECHNOLOGY DEVELOPMENT</strong> and production as possible</li>\n",
    "    <li class=\"fragment\">Providing good Hardware Solutions at <strong>LOW COSTS</strong></li>\n",
    "    <li class=\"fragment\">Enabling <strong>FULL AUTONOMY</strong> and <strong>INTELLIGENT ASSISTANCE</strong></li>\n",
    "</ul>\n",
    "\n",
    "\n",
    "</div>"
   ]
  },
  {
   "cell_type": "markdown",
   "id": "fd956b01-8937-4c50-a2c3-6fd65ddb6311",
   "metadata": {
    "slideshow": {
     "slide_type": "slide"
    },
    "tags": []
   },
   "source": [
    "<h2 style=\"font-family: 'Helvetica Neue', Arial, sans-serif; border-bottom: 2px solid #ddd; padding-bottom: 10px;\">Serial Manipulators: MAiRA and LARA Series</h2>\n",
    "<div style=\"font-family: 'Helvetica Neue', Arial, sans-serif; display: flex; justify-content: space-between;\">\n",
    "    \n",
    "<div style=\"width: 68%;\">\n",
    "<table border=\"1\" style=\"font-size: 24px;\">\n",
    "    <thead>\n",
    "        <tr>\n",
    "            <th style=\"padding: 10px 20px;\">Property</th>\n",
    "            <th style=\"padding: 10px 20px;\">Maira</th>\n",
    "            <th style=\"padding: 10px 20px;\">Lara</th>\n",
    "            <th style=\"padding: 10px 20px;\">Liwa</th>\n",
    "        </tr>\n",
    "    </thead>\n",
    "    <tbody>\n",
    "        <tr>\n",
    "            <td style=\"padding: 10px 20px;\">DOF</td>\n",
    "            <td style=\"padding: 10px 20px;\">7</td>\n",
    "            <td style=\"padding: 10px 20px;\">6</td>\n",
    "            <td style=\"padding: 10px 20px;\">7</td>\n",
    "        </tr>\n",
    "        <tr>\n",
    "            <td style=\"padding: 10px 20px;\">Sensors</td>\n",
    "            <td style=\"padding: 10px 20px;\">3D Camera, Microphone Array, Force/Torque Sensor, Joint Torque Sensor</td>\n",
    "            <td style=\"padding: 10px 20px;\">Joint Torque Sensor</td>\n",
    "            <td style=\"padding: 10px 20px;\">Joint Torque Sensor</td>\n",
    "        </tr>\n",
    "        <tr>\n",
    "            <td style=\"padding: 10px 20px;\">AI Features</td>\n",
    "            <td style=\"padding: 10px 20px;\">Yes</td>\n",
    "            <td style=\"padding: 10px 20px;\">No</td>\n",
    "            <td style=\"padding: 10px 20px;\">No</td>\n",
    "        </tr>\n",
    "        <tr>\n",
    "            <td style=\"padding: 10px 20px;\">Pricing</td>\n",
    "            <td style=\"padding: 10px 20px;\">30.000€</td>\n",
    "            <td style=\"padding: 10px 20px;\">15.000€</td>\n",
    "            <td style=\"padding: 10px 20px;\">4.000€</td>\n",
    "        </tr>\n",
    "        <tr>\n",
    "            <td style=\"padding: 10px 20px;\">Link Material</td>\n",
    "            <td style=\"padding: 10px 20px;\">Aluminum Casting</td>\n",
    "            <td style=\"padding: 10px 20px;\">Aluminum Casting</td>\n",
    "            <td style=\"padding: 10px 20px;\">Composite Materials</td>\n",
    "        </tr>\n",
    "        <tr>\n",
    "            <td style=\"padding: 10px 20px;\">Weight</td>\n",
    "            <td style=\"padding: 10px 20px;\">50Kg - 55kg</td>\n",
    "            <td style=\"padding: 10px 20px;\">18-48kg</td>\n",
    "            <td style=\"padding: 10px 20px;\">10kg</td>\n",
    "        </tr>\n",
    "        <tr>\n",
    "            <td style=\"padding: 10px 20px;\">Payload</td>\n",
    "            <td style=\"padding: 10px 20px;\">8-18kg</td>\n",
    "            <td style=\"padding: 10px 20px;\">3-15kg</td>\n",
    "            <td style=\"padding: 10px 20px;\">5kg</td>\n",
    "        </tr>\n",
    "    </tbody>\n",
    "</table>\n",
    "<div style=\"width: 100%;\">\n",
    "    <img src=\"./data/lara.png\" alt=\"LARA Series Robot\" style=\"max-width: 900px; display: block; margin-left: auto; margin-right: auto;\">\n",
    "</div>\n",
    "</div>\n",
    "\n",
    "<!-- Right column for image -->\n",
    "<div style=\"width: 30%;\">\n",
    "    <img src=\"./data/maira2.png\" alt=\"MAiRA Series Robot\" style=\"max-width: 400px; width: 100%;\">\n",
    "    <img src=\"./data/liwa.png\" alt=\"LARA Series Robot\" style=\"max-width: 400px; width: 100%;\">\n",
    "</div>\n",
    "\n",
    "\n",
    "\n",
    "\n"
   ]
  },
  {
   "cell_type": "markdown",
   "id": "c4785476-73a7-4825-8776-bf9528ade65e",
   "metadata": {
    "slideshow": {
     "slide_type": "slide"
    },
    "tags": []
   },
   "source": [
    "<h2 style=\"font-family: 'Helvetica Neue', Arial, sans-serif; border-bottom: 2px solid #ddd; padding-bottom: 10px;\">Automated Guided Vehicle: MAV Series</h2>\n",
    "<div style=\"font-family: 'Helvetica Neue', Arial, sans-serif; display: flex; justify-content: space-between;\">\n",
    "\n",
    "<!-- Left column for text -->\n",
    "<div style=\"width: 48%;\">\n",
    "    \n",
    "<ul>\n",
    "        <li>Used in Industry to transport goods.</li>\n",
    "        <li>More flexible than conveyer belts.</li>\n",
    "        <li>High payload (1500 kg).</li>\n",
    "        <li>High positioning accuracy.</li>\n",
    "        <li>compatible with MAiRA and LARA.</li>\n",
    "    </ul>\n",
    "</div>\n",
    "\n",
    "<!-- Right column for image -->\n",
    "<div style=\"width: 80%;\">\n",
    "    <img src=\"./data/mav.png\" alt=\"MAV Robot\" style=\"max-width: 1400px; width: 100%;\">\n",
    "</div>\n",
    "\n",
    "</div>"
   ]
  },
  {
   "cell_type": "markdown",
   "id": "af091df4-73b2-4c98-80a5-08a9a30a55dd",
   "metadata": {
    "slideshow": {
     "slide_type": "slide"
    },
    "tags": []
   },
   "source": [
    "<h2 style=\"font-family: 'Helvetica Neue', Arial, sans-serif; border-bottom: 2px solid #ddd; padding-bottom: 10px;\">Personal Assistance (under development)</h2>\n",
    "<div style=\"font-family: 'Helvetica Neue', Arial, sans-serif; display: flex; justify-content: space-between;\">\n",
    "\n",
    "<!-- Left column for text -->\n",
    "<div style=\"width: 65%;\">\n",
    "\n",
    "<ul>\n",
    "    <li>more flexible than stationary platforms in case of MiPA</li>\n",
    "    <li>more flexible than mobile platforms in the case of 4NE-1</li>\n",
    "    <li>enable true <strong>Personal Assistance</strong>.</li>\n",
    "    <li>Supposed to be able to clean Home / Rooms / Flexibly help in Industry.</li>\n",
    "    <li>safe.</li>\n",
    "    <li>smart.</li>\n",
    "    \n",
    "</ul>\n",
    "    \n",
    "<img src=\"./data/mipa.png\" alt=\"LARA Series Robot\" style=\"max-width: 700px; width: 100%;\">\n",
    "</div>\n",
    "\n",
    "<!-- Right column for image -->\n",
    "<div style=\"width: 45%;\">\n",
    "\n",
    "<img src=\"./data/4ne1.png\" alt=\"LARA Series Robot\" style=\"max-width: 700px; width: 100%;\">\n",
    "</div>\n",
    "\n",
    "</div>"
   ]
  },
  {
   "cell_type": "code",
   "execution_count": 10,
   "id": "3e0f606c-e223-408d-88dc-e6b985f1a2c3",
   "metadata": {
    "jupyter": {
     "source_hidden": true
    },
    "slideshow": {
     "slide_type": "slide"
    },
    "tags": [
     "hide_input"
    ]
   },
   "outputs": [
    {
     "data": {
      "text/html": [
       "\n",
       "<div style=\"font-family: 'Helvetica Neue', Arial, sans-serif;\">\n",
       "\n",
       "<h1 style=\"border-bottom: 2px solid #ddd; padding-bottom: 10px;\">Towards Full Autonomy and Cognition:</h1>\n",
       "    \n",
       "<h3>MAiRA's Object Recognition and Interaction:</h3>\n",
       "<p>With the use of the integrated 3D camera and AI, MAiRA can perform complex tasks.</p>\n",
       "\n",
       "<div style=\"text-align: center;\">\n",
       "    <video width=\"1440\" height=\"810\" controls>\n",
       "        <source src=\"./data/smart_assembly.mp4\" type=\"video/mp4\">\n",
       "        Your browser does not support the video tag.\n",
       "    </video>\n",
       "</div>\n",
       "    \n",
       "</div>\n"
      ],
      "text/plain": [
       "<IPython.core.display.HTML object>"
      ]
     },
     "metadata": {},
     "output_type": "display_data"
    }
   ],
   "source": [
    "html_content = \"\"\"\n",
    "<div style=\"font-family: 'Helvetica Neue', Arial, sans-serif;\">\n",
    "\n",
    "<h1 style=\"border-bottom: 2px solid #ddd; padding-bottom: 10px;\">Towards Full Autonomy and Cognition:</h1>\n",
    "    \n",
    "<h3>MAiRA's Object Recognition and Interaction:</h3>\n",
    "<p>With the use of the integrated 3D camera and AI, MAiRA can perform complex tasks.</p>\n",
    "\n",
    "<div style=\"text-align: center;\">\n",
    "    <video width=\"1440\" height=\"810\" controls>\n",
    "        <source src=\"./data/smart_assembly.mp4\" type=\"video/mp4\">\n",
    "        Your browser does not support the video tag.\n",
    "    </video>\n",
    "</div>\n",
    "    \n",
    "</div>\n",
    "\"\"\"\n",
    "\n",
    "# Display the enhanced HTML\n",
    "display(HTML(html_content))"
   ]
  },
  {
   "cell_type": "code",
   "execution_count": 4,
   "id": "ee37cd77-7b85-41be-89cf-9095a6ad16a1",
   "metadata": {
    "jupyter": {
     "source_hidden": true
    },
    "slideshow": {
     "slide_type": "slide"
    },
    "tags": []
   },
   "outputs": [
    {
     "data": {
      "text/html": [
       "\n",
       "<div style=\"font-family: 'Helvetica Neue', Arial, sans-serif;\">\n",
       "\n",
       "<h1 style=\"border-bottom: 2px solid #ddd; padding-bottom: 10px;\">Towards Full Autonomy and Cognition:</h1>\n",
       "    \n",
       "<h3>MAiRA's Advanced Object Detection:</h3>\n",
       "<p>With the use of the integrated 3D camera, MAiRA can perform scan objects in real-time.</p>\n",
       "\n",
       "<div style=\"text-align: center;\">\n",
       "    <video width=\"1440\" height=\"810\" controls>\n",
       "        <source src=\"./data/surface_scan.mp4\" type=\"video/mp4\">\n",
       "        Your browser does not support the video tag.\n",
       "    </video>\n",
       "</div>\n",
       "    \n",
       "</div>\n"
      ],
      "text/plain": [
       "<IPython.core.display.HTML object>"
      ]
     },
     "metadata": {},
     "output_type": "display_data"
    }
   ],
   "source": [
    "html_content = \"\"\"\n",
    "<div style=\"font-family: 'Helvetica Neue', Arial, sans-serif;\">\n",
    "\n",
    "<h1 style=\"border-bottom: 2px solid #ddd; padding-bottom: 10px;\">Towards Full Autonomy and Cognition:</h1>\n",
    "    \n",
    "<h3>MAiRA's Advanced Object Detection:</h3>\n",
    "<p>With the use of the integrated 3D camera, MAiRA can perform scan objects in real-time.</p>\n",
    "\n",
    "<div style=\"text-align: center;\">\n",
    "    <video width=\"1440\" height=\"810\" controls>\n",
    "        <source src=\"./data/surface_scan.mp4\" type=\"video/mp4\">\n",
    "        Your browser does not support the video tag.\n",
    "    </video>\n",
    "</div>\n",
    "    \n",
    "</div>\n",
    "\"\"\"\n",
    "\n",
    "# Display the enhanced HTML\n",
    "display(HTML(html_content))"
   ]
  },
  {
   "cell_type": "code",
   "execution_count": 5,
   "id": "ad14b3df-c475-4984-b56f-1416fd28abdf",
   "metadata": {
    "slideshow": {
     "slide_type": "slide"
    },
    "tags": [
     "hide_input"
    ]
   },
   "outputs": [
    {
     "data": {
      "text/html": [
       "\n",
       "<div style=\"font-family: 'Helvetica Neue', Arial, sans-serif;\">\n",
       "\n",
       "<h1 style=\"border-bottom: 2px solid #ddd; padding-bottom: 10px;\">Towards Full Autonomy and Cognition:</h1>\n",
       "    \n",
       "<h3>MAiRA in Combination with Mav:</h3>\n",
       "<p>Practical example of the advanced object detection.</p>\n",
       "\n",
       "<div style=\"text-align: center;\">\n",
       "    <video width=\"1440\" height=\"810\" controls>\n",
       "        <source src=\"./data/mav_maira.mov\" type=\"video/mp4\">\n",
       "        Your browser does not support the video tag.\n",
       "    </video>\n",
       "</div>\n",
       "    \n",
       "</div>\n"
      ],
      "text/plain": [
       "<IPython.core.display.HTML object>"
      ]
     },
     "metadata": {},
     "output_type": "display_data"
    }
   ],
   "source": [
    "html_content = \"\"\"\n",
    "<div style=\"font-family: 'Helvetica Neue', Arial, sans-serif;\">\n",
    "\n",
    "<h1 style=\"border-bottom: 2px solid #ddd; padding-bottom: 10px;\">Towards Full Autonomy and Cognition:</h1>\n",
    "    \n",
    "<h3>MAiRA in Combination with Mav:</h3>\n",
    "<p>Practical example of the advanced object detection.</p>\n",
    "\n",
    "<div style=\"text-align: center;\">\n",
    "    <video width=\"1440\" height=\"810\" controls>\n",
    "        <source src=\"./data/mav_maira.mov\" type=\"video/mp4\">\n",
    "        Your browser does not support the video tag.\n",
    "    </video>\n",
    "</div>\n",
    "    \n",
    "</div>\n",
    "\"\"\"\n",
    "\n",
    "# Display the enhanced HTML\n",
    "display(HTML(html_content))"
   ]
  },
  {
   "cell_type": "code",
   "execution_count": 6,
   "id": "df8ee980-5da7-48bd-b1be-a77b3901871d",
   "metadata": {
    "jupyter": {
     "source_hidden": true
    },
    "slideshow": {
     "slide_type": "slide"
    },
    "tags": []
   },
   "outputs": [
    {
     "data": {
      "text/html": [
       "\n",
       "<div style=\"font-family: 'Helvetica Neue', Arial, sans-serif;\">\n",
       "\n",
       "<h1 style=\"border-bottom: 2px solid #ddd; padding-bottom: 10px;\">Towards Full Autonomy and Cognition:</h1>\n",
       "    \n",
       "<h3>MAiRA's Smart Welding (under Development):</h3>\n",
       "<p>Practical example of the advanced object detection.</p>\n",
       "\n",
       "<div style=\"text-align: center;\">\n",
       "    <video width=\"1440\" height=\"810\" controls>\n",
       "        <source src=\"./data/binzel_welding.mp4\" type=\"video/mp4\">\n",
       "        Your browser does not support the video tag.\n",
       "    </video>\n",
       "</div>\n",
       "    \n",
       "</div>\n"
      ],
      "text/plain": [
       "<IPython.core.display.HTML object>"
      ]
     },
     "metadata": {},
     "output_type": "display_data"
    }
   ],
   "source": [
    "html_content = \"\"\"\n",
    "<div style=\"font-family: 'Helvetica Neue', Arial, sans-serif;\">\n",
    "\n",
    "<h1 style=\"border-bottom: 2px solid #ddd; padding-bottom: 10px;\">Towards Full Autonomy and Cognition:</h1>\n",
    "    \n",
    "<h3>MAiRA's Smart Welding (under Development):</h3>\n",
    "<p>Practical example of the advanced object detection.</p>\n",
    "\n",
    "<div style=\"text-align: center;\">\n",
    "    <video width=\"1440\" height=\"810\" controls>\n",
    "        <source src=\"./data/binzel_welding.mp4\" type=\"video/mp4\">\n",
    "        Your browser does not support the video tag.\n",
    "    </video>\n",
    "</div>\n",
    "    \n",
    "</div>\n",
    "\"\"\"\n",
    "\n",
    "# Display the enhanced HTML\n",
    "display(HTML(html_content))"
   ]
  },
  {
   "cell_type": "code",
   "execution_count": 7,
   "id": "842e12ca-c8cb-471b-b840-1d6d7cdffe01",
   "metadata": {
    "jupyter": {
     "source_hidden": true
    },
    "slideshow": {
     "slide_type": "slide"
    },
    "tags": []
   },
   "outputs": [
    {
     "data": {
      "text/html": [
       "\n",
       "<div style=\"font-family: 'Helvetica Neue', Arial, sans-serif;\">\n",
       "\n",
       "<h1 style=\"border-bottom: 2px solid #ddd; padding-bottom: 10px;\">Towards Full Autonomy and Cognition:</h1>\n",
       "    \n",
       "<h3>MAiRA's Smart Binpicking (already used in Industry):</h3>\n",
       "\n",
       "<div style=\"text-align: center;\">\n",
       "    <video width=\"1440\" height=\"810\" controls>\n",
       "        <source src=\"./data/toyo_demo_short.mp4\" type=\"video/mp4\">\n",
       "        Your browser does not support the video tag.\n",
       "    </video>\n",
       "</div>\n",
       "    \n",
       "</div>\n"
      ],
      "text/plain": [
       "<IPython.core.display.HTML object>"
      ]
     },
     "metadata": {},
     "output_type": "display_data"
    }
   ],
   "source": [
    "html_content = \"\"\"\n",
    "<div style=\"font-family: 'Helvetica Neue', Arial, sans-serif;\">\n",
    "\n",
    "<h1 style=\"border-bottom: 2px solid #ddd; padding-bottom: 10px;\">Towards Full Autonomy and Cognition:</h1>\n",
    "    \n",
    "<h3>MAiRA's Smart Binpicking (already used in Industry):</h3>\n",
    "\n",
    "<div style=\"text-align: center;\">\n",
    "    <video width=\"1440\" height=\"810\" controls>\n",
    "        <source src=\"./data/toyo_demo_short.mp4\" type=\"video/mp4\">\n",
    "        Your browser does not support the video tag.\n",
    "    </video>\n",
    "</div>\n",
    "    \n",
    "</div>\n",
    "\"\"\"\n",
    "\n",
    "# Display the enhanced HTML\n",
    "display(HTML(html_content))"
   ]
  },
  {
   "cell_type": "markdown",
   "id": "71e2f33d-6a3e-4d4d-a31b-b1657d55150d",
   "metadata": {
    "slideshow": {
     "slide_type": "slide"
    },
    "tags": []
   },
   "source": [
    "<div style=\"font-family: 'Helvetica Neue', Arial, sans-serif;\">\n",
    "\n",
    "<h1 style=\"border-bottom: 2px solid #ddd; padding-bottom: 10px;\">Our Engineering Departments:</h1>\n",
    "<ul>\n",
    "    <li class=\"fragment\">Mechanics/Electronics Department</li>\n",
    "    <li class=\"fragment\">Application Department (Software)</li>\n",
    "    <li class=\"fragment\">GUI Department (Software)</li>\n",
    "    <li class=\"fragment\">Artificial Intelligence Department</li>\n",
    "    <li class=\"fragment\">Control Department</li>\n",
    "</ul>\n",
    "</div>"
   ]
  },
  {
   "cell_type": "markdown",
   "id": "903fcca2-dcca-4053-a12b-8f99ef76c4bd",
   "metadata": {
    "slideshow": {
     "slide_type": "slide"
    },
    "tags": []
   },
   "source": [
    "<div style=\"font-family: 'Helvetica Neue', Arial, sans-serif;\">\n",
    "\n",
    "<h1 style=\"border-bottom: 2px solid #ddd; padding-bottom: 10px;\">My Personal History at Neura</h1>\n",
    "<img src=\"./data/timeline_2.png\" alt=\"accuracy\" style=\"max-width: 1100px; width: 100%; padding-top: 100px display: block; margin-left: auto; margin-right: auto;\">\n",
    "</div>"
   ]
  },
  {
   "cell_type": "markdown",
   "id": "35c21109-a5b0-469e-b354-81168a876aa7",
   "metadata": {
    "slideshow": {
     "slide_type": "slide"
    },
    "tags": []
   },
   "source": [
    "<div style=\"font-family: 'Helvetica Neue', Arial, sans-serif;\">\n",
    "\n",
    "<h1 style=\"border-bottom: 2px solid #ddd; padding-bottom: 10px;\">The Control Department:</h1>\n",
    "    <p>The Control Department handles a variety of tasks:</p>\n",
    "    <ul>\n",
    "        <li class=\"fragment\">Low level Controllers (classical Control Theory)</li>\n",
    "        <li class=\"fragment\">Dynamic Modelling of Serial Manipulators</li>\n",
    "        <li class=\"fragment\">Kinematic Modelling of Serial Manipulators</li>\n",
    "        <li class=\"fragment\">Advanced Control Methods</li>\n",
    "        <li class=\"fragment\">Collision Detection</li>\n",
    "        <li class=\"fragment\">Motion Planning</li>\n",
    "        <li class=\"fragment\">Parameter Identification</li>\n",
    "        <li class=\"fragment\">Conceptual Hardware Design</li>\n",
    "        <li class=\"fragment\">Sensor integration</li>\n",
    "        <li class=\"fragment\">Kinematic Calibration</li>\n",
    "    </ul>\n",
    "    \n",
    "</div>\n"
   ]
  },
  {
   "cell_type": "markdown",
   "id": "ed75d877-d5eb-464c-bce2-cf0b24bc4102",
   "metadata": {
    "slideshow": {
     "slide_type": "slide"
    },
    "tags": []
   },
   "source": [
    "<div style=\"font-family: 'Helvetica Neue', Arial, sans-serif;\">\n",
    "\n",
    "<a id=\"problem-statement\"></a>\n",
    "<h1 style=\"border-bottom: 2px solid #ddd; padding-bottom: 10px;\">Kinematic Calibration</h1>\n",
    "\n",
    "<h2>What is It?</h2>\n",
    "<ul>\n",
    "    <li>Kinematic calibration identifies <strong>kinematic parameters</strong></li>\n",
    "    <li>Kinematic calibration adjusts the kinematic model</li>\n",
    "    <li>Corrects differences between theoretical model and actual robot</li>\n",
    "    <li>Increases accuracy of robot</li>\n",
    "    <li>Does not increase repeatability (usually determined by hardware)</li>\n",
    "</ul>\n",
    "\n",
    "<div style=\"margin-top: 40px; margin-bottom: 100px;\">\n",
    "    <!-- Using the logo from the data folder and making it bigger -->\n",
    "    <img src=\"./data/accuracy.png\" alt=\"accuracy\" style=\"max-width: 1200px; width: 100%; display: block; margin-left: auto; margin-right: auto;\">\n",
    "</div>\n",
    "</div>\n"
   ]
  },
  {
   "cell_type": "markdown",
   "id": "4aa37792-b385-4fe2-aca6-62db546c44ba",
   "metadata": {
    "slideshow": {
     "slide_type": "slide"
    },
    "tags": []
   },
   "source": [
    "<div style=\"font-family: 'Helvetica Neue', Arial, sans-serif;\">\n",
    "\n",
    "<h1 style=\"border-bottom: 2px solid #ddd; padding-bottom: 10px;\">Comparison ideal Model and real Robot:</h1>\n",
    "\n",
    "</div>"
   ]
  },
  {
   "cell_type": "code",
   "execution_count": 4,
   "id": "e8942d43-4ebd-4ad1-bff8-1016c411646c",
   "metadata": {
    "tags": []
   },
   "outputs": [
    {
     "data": {
      "text/html": [
       "\n",
       "                <div style=\"display: flex; justify-content: center; align-items: center; height: 100%;\">\n",
       "                    <iframe src=\"http://localhost:52005/?53005\" width=\"1440\" height=\"810\" style=\"border: none;\"></iframe>\n",
       "                </div>\n",
       "                "
      ],
      "text/plain": [
       "<IPython.core.display.HTML object>"
      ]
     },
     "metadata": {},
     "output_type": "display_data"
    },
    {
     "data": {
      "application/vnd.jupyter.widget-view+json": {
       "model_id": "30914f5933ed46ee9464073794e99aff",
       "version_major": 2,
       "version_minor": 0
      },
      "text/plain": [
       "interactive(children=(FloatSlider(value=0.0, description='joint angle 1', layout=Layout(width='80%'), max=3.14…"
      ]
     },
     "metadata": {},
     "output_type": "display_data"
    }
   ],
   "source": [
    "# Make and instance of the Swift simulator and open it\n",
    "env = Swift()\n",
    "env.set_camera_pose([1,2,1],[0.1,0.1,0.3])\n",
    "env.launch(realtime=False, browser=\"notebook\")\n",
    "\n",
    "# Create 2 MAiRA models, one for the mathematical robot, on for the 'real' robot\n",
    "maira_model = rtb.models.URDF.Maira7M()\n",
    "maira_real = rtb.models.URDF.Maira7Uncal()\n",
    "\n",
    "# For each robot show the TCP position as well\n",
    "T_ee_model = sg.Axes(0.15, pose = maira_model.fkine(maira_model.q))\n",
    "T_ee_real = sg.Axes(0.15, pose = maira_real.fkine(maira_real.q))\n",
    "\n",
    "# reduce alpha of the default model robot and add the 'real' robot\n",
    "\n",
    "env.add(maira_model, robot_alpha = 0.15)\n",
    "env.add(maira_real, robot_alpha = 1.0)\n",
    "env.add(T_ee_model)\n",
    "env.add(T_ee_real)\n",
    "\n",
    "env.step()\n",
    "# display sliders to make the robot move\n",
    "show_sliders(update_robot)"
   ]
  },
  {
   "cell_type": "code",
   "execution_count": 10,
   "id": "dca6f869-c287-4f02-be55-d20edb5b2c43",
   "metadata": {
    "tags": []
   },
   "outputs": [],
   "source": [
    "env.close()"
   ]
  },
  {
   "cell_type": "markdown",
   "id": "461a80ee-6f15-46cb-a74a-e82c55ec75cb",
   "metadata": {
    "jp-MarkdownHeadingCollapsed": true,
    "slideshow": {
     "slide_type": "slide"
    },
    "tags": []
   },
   "source": [
    "<h2 style=\"font-family: 'Helvetica Neue', Arial, sans-serif; border-bottom: 2px solid #ddd; padding-bottom: 10px;\">What causes the Kinematic Error?</h2>\n",
    "<div style=\"font-family: 'Helvetica Neue', Arial, sans-serif; display: flex; justify-content: space-between;\">\n",
    "\n",
    "<!-- Left column for text -->\n",
    "<div style=\"width: 48%;\">\n",
    "\n",
    "<ul>\n",
    "    <li>cause of kinematic parameter error:</li>\n",
    "        <ul>\n",
    "            <li>Manufacturing tolerances</li>\n",
    "            <li>joint position offsets</li>\n",
    "        </ul>\n",
    "    <li>Joint elasticities can be robustly compensated by loadside encoders</li>\n",
    "    <li>Link elasticities can be calibrated too (extension of Forward Kinematics to have elastic elements)</li>\n",
    "    <li>temperature expansion not handled by calibration (calibration while in steady state)</li>\n",
    "</ul>\n",
    "</div>\n",
    "\n",
    "<!-- Right column for image -->\n",
    "<div style=\"width: 80%;\">\n",
    "        <img src=\"./data/kinematic_error.png\" alt=\"accuracy\" style=\"max-width: 800px; width: 100%; display: block; margin-left: auto; margin-right: auto;\">\n",
    "    <p style=\"text-align: center; font-style: italic; margin-top: 10px;\">Causes of Kinematic Error</p>\n",
    "</div>\n",
    "\n",
    "</div>"
   ]
  },
  {
   "cell_type": "markdown",
   "id": "bd80bfc1-5307-4d93-bc03-31ab28200c97",
   "metadata": {
    "slideshow": {
     "slide_type": "slide"
    },
    "tags": []
   },
   "source": [
    "<div style=\"font-family: 'Helvetica Neue', Arial, sans-serif;\">\n",
    "<h1 style=\"border-bottom: 2px solid #ddd; padding-bottom: 10px;\">Kinematic Calibration: Two Approaches</h1>\n",
    "\n",
    "<div style=\"margin-top: 40px; margin-bottom: 100px;\">\n",
    "    <!-- Centering the image within the div -->\n",
    "    <img src=\"./data/calibration_scheme.png\" alt=\"calibration scheme\" style=\"max-width: 1600px; width: 100%; display: block; margin-left: auto; margin-right: auto;\">\n",
    "    <p style=\"text-align: center; font-style: italic; margin-top: 10px;\">Example of different Calibration approaches</p>\n",
    "</div>\n",
    "</div>\n",
    "\n",
    "\n",
    "    "
   ]
  },
  {
   "cell_type": "markdown",
   "id": "f477033e-e849-4771-b329-2f0d6d3ca3d7",
   "metadata": {
    "slideshow": {
     "slide_type": "slide"
    },
    "tags": []
   },
   "source": [
    "<h2 style=\"font-family: 'Helvetica Neue', Arial, sans-serif; border-bottom: 2px solid #ddd; padding-bottom: 10px;\">Closed Loop Calibration:</h2>\n",
    "<div style=\"font-family: 'Helvetica Neue', Arial, sans-serif; display: flex; justify-content: space-between;\">\n",
    "\n",
    "<!-- Left column for text -->\n",
    "<div style=\"width: 58%;\">\n",
    "<ul>\n",
    "    <li>\"fixed\" TCP position, free TCP orientation and measured joint angles</li>\n",
    "    <li>3 dof ball in socket joint to close the loop</li>\n",
    "    <li>Low Cost (No Lasertracker needed): ~1.000€</li>\n",
    "    <li>easy to do</li>\n",
    "    <li>hard to fully automate\n",
    "    <li>mediocre accuracy\n",
    "    <ul>\n",
    "        <li>low joint variation</li>\n",
    "        <li>no elastic calibration due physical contact to tool</li>\n",
    "    </ul>\n",
    "    </li>\n",
    "</ul>\n",
    "    \n",
    "<div>\n",
    "    <img src=\"./data/cl_measurement_poses.png\" alt=\"accuracy\" style=\"max-width: 600px; width: 100%; display: block; margin-left: auto; margin-right: auto;\">\n",
    "    <p style=\"font-size: 16px; text-align: center; font-style: italic; margin-top: 10px;\">Closed Loop Calibration Rendering</p>\n",
    "</div>\n",
    "</div>\n",
    "\n",
    "<!-- Right column for image -->\n",
    "<div style=\"width: 38%;\">\n",
    "    <img src=\"./data/lara_cl_tool.png\" alt=\"second_image\" style=\"max-width: 400px; width: 100%; display: block; margin-left: auto; margin-right: auto;\">\n",
    "    <p style=\"font-size: 16px; text-align: center; font-style: italic; margin-top: 10px;\">Closed Loop Calibration Tool</p>\n",
    "</div>\n",
    "\n",
    "</div>"
   ]
  },
  {
   "cell_type": "markdown",
   "id": "d71fb711-ec5f-4cd1-a4e4-6c38464a90f0",
   "metadata": {
    "slideshow": {
     "slide_type": "slide"
    },
    "tags": []
   },
   "source": [
    "<h1 style=\"font-family: 'Helvetica Neue', Arial, sans-serif; border-bottom: 2px solid #ddd; padding-bottom: 10px;\">Open Loop Calibration:</h1>\n",
    "\n",
    "<div style=\"font-family: 'Helvetica Neue', Arial, sans-serif; display: flex; justify-content: space-between;\">\n",
    "\n",
    "<div style=\"width: 58%;\">\n",
    "<ul>\n",
    "    <li>\"fixed\" joint angles and measured TCP Position</li>\n",
    "    <li>Expensive (Lasertracker needed): ~120.000€</li>\n",
    "    <li>hard to do</li>\n",
    "    <li>easy to automate</li>\n",
    "    <li>excellent accuracy\n",
    "    <ul>\n",
    "        <li>high joint variation</li>\n",
    "        <li>elastic calibration possible</li>\n",
    "    </ul>\n",
    "    </li>\n",
    "</ul> \n",
    "</div>\n",
    "    \n",
    "<!-- Right column for image -->\n",
    "<div style=\"width: 80%;\">\n",
    "        <img src=\"./data/maira_calibration.png\" alt=\"accuracy\" style=\"max-width: 400px; width: 100%; display: block; margin-left: auto; margin-right: auto;\">\n",
    "    <p style=\"text-align: center; font-style: italic; margin-top: 10px;\">Open Loop Calibration Setup with Lasertracker</p>\n",
    "</div>\n",
    "\n",
    "</div>"
   ]
  },
  {
   "cell_type": "code",
   "execution_count": 7,
   "id": "f4b642ce-62eb-40c3-9cdf-83d0141ccc89",
   "metadata": {
    "jupyter": {
     "source_hidden": true
    },
    "slideshow": {
     "slide_type": "slide"
    },
    "tags": []
   },
   "outputs": [
    {
     "data": {
      "text/html": [
       "\n",
       "<div style=\"font-family: 'Helvetica Neue', Arial, sans-serif;\">\n",
       "\n",
       "    <h1 style=\"border-bottom: 2px solid #ddd; padding-bottom: 10px;\">Laser Tracker</h1>\n",
       "    <ul>\n",
       "        <li>Measures a position, relative to the Lasertracker position</li>\n",
       "        <li>uses reflective mirors</li>\n",
       "        <li>Accuracy: 15µm + 6µm/m</li>\n",
       "    </ul> \n",
       "\n",
       "    <div style=\"text-align: center;\">\n",
       "        <video width=\"1440\" height=\"810\" controls>\n",
       "            <source src=\"./data/laser_tracker.mp4\" type=\"video/mp4\">\n",
       "        </video>\n",
       "    </div>\n",
       "    \n",
       "</div>\n"
      ],
      "text/plain": [
       "<IPython.core.display.HTML object>"
      ]
     },
     "metadata": {},
     "output_type": "display_data"
    }
   ],
   "source": [
    "html_content = \"\"\"\n",
    "<div style=\"font-family: 'Helvetica Neue', Arial, sans-serif;\">\n",
    "\n",
    "    <h1 style=\"border-bottom: 2px solid #ddd; padding-bottom: 10px;\">Laser Tracker</h1>\n",
    "    <ul>\n",
    "        <li>Measures a position, relative to the Lasertracker position</li>\n",
    "        <li>uses reflective mirors</li>\n",
    "        <li>Accuracy: 15µm + 6µm/m</li>\n",
    "    </ul> \n",
    "\n",
    "    <div style=\"text-align: center;\">\n",
    "        <video width=\"1440\" height=\"810\" controls>\n",
    "            <source src=\"./data/laser_tracker.mp4\" type=\"video/mp4\">\n",
    "        </video>\n",
    "    </div>\n",
    "    \n",
    "</div>\n",
    "\"\"\"\n",
    "\n",
    "display(HTML(html_content))"
   ]
  },
  {
   "cell_type": "markdown",
   "id": "0953e0fd-c76b-4ad6-b05c-bc00f6dd53c2",
   "metadata": {
    "slideshow": {
     "slide_type": "slide"
    },
    "tags": []
   },
   "source": [
    "<div style=\"font-family: 'Helvetica Neue', Arial, sans-serif;\">\n",
    "<h1 style=\"border-bottom: 2px solid #ddd; padding-bottom: 10px;\">Open Loop Calibration: Roadmap</h1>\n",
    "<h2>Lecture Content: </h2>\n",
    "    <ul>\n",
    "        <li class=\"fragment\">Orientation Representation with <strong>Quaternions</strong></li>\n",
    "        <li class=\"fragment\">Transformation representation with <strong>Dual-Quaternions</strong></li>\n",
    "        <li class=\"fragment\"><strong>Screw-Theory</strong></li>\n",
    "        <li class=\"fragment\">Formulation of Forward Kinematics with <strong>Dual-Quaternions</strong> and <strong>Screw-Theory</strong></li>\n",
    "        <li class=\"fragment\">Formulation of the Kinematic Calibration <strong>Optimization Problem</strong></li>\n",
    "        <li class=\"fragment\">Solving the <strong>Optimization Problem</strong></li>\n",
    "        <li class=\"fragment\"><strong>Validation</strong></li>\n",
    "    </ul>\n",
    "</div>\n",
    "\n"
   ]
  },
  {
   "cell_type": "markdown",
   "id": "265f39dd-a20b-4780-8904-ff04ff0a9c14",
   "metadata": {
    "slideshow": {
     "slide_type": "slide"
    },
    "tags": []
   },
   "source": [
    "<h1 style=\"font-family: 'Helvetica Neue', Arial, sans-serif; border-bottom: 2px solid #ddd; padding-bottom: 10px;\">Orientation Representation with Unit Quaternions</h1>\n",
    "<div style=\"font-family: 'Helvetica Neue', Arial, sans-serif; display: flex; justify-content: space-between;\">\n",
    "\n",
    "<!-- Left column for text -->\n",
    "<div style=\"width: 58%;\">\n",
    "\n",
    "<p>Quaternions are a system for representing orientations and rotations in three dimensions, composed of one real part and three imaginary parts.</p>\n",
    "\n",
    "<h3>Features:</h3>\n",
    "<ul>\n",
    "<li>Quaternion: $ q = w + xi + yj + zk $\n",
    "    <ul>\n",
    "        <li>$w$: <strong>real part</strong></li>\n",
    "        <li>$x$, $y$, $z$: <strong>imaginary parts</strong>, representing 3D space</li>\n",
    "    </ul>\n",
    "</li>\n",
    "<li>$ i^2 = j^2 = k^2 = ijk = -1$ : Quaternion units. Note similarity to complex numbers</li>\n",
    "    <li>Represent <strong>Orientation</strong> and <strong>Rotation</strong></li>\n",
    "<li>$ \\|q\\| = 1$ for <strong>unit Quaternions</strong></li>\n",
    "<li><strong>Antipodal Property</strong>: $q$ and $-q$ are the same Orientation, but different Rotation</li>\n",
    "</ul>\n",
    "\n",
    "<h3>Notations:</h3>\n",
    "<ul>\n",
    "<li>Quaternion: $ q = w + xi + yj + zk $</li>\n",
    "<li>Quaternion: $ q = (w, x, y, z) $</li>\n",
    "<li>Quaternion: $ q = (w, \\mathbf{v}) $, where $\\mathbf{v} \\in \\mathbb{R}^3$ is called the <strong>complex vector</strong> and contains the imaginary parts $x, y, z$</li>\n",
    "</ul>\n",
    "    \n",
    "</div>\n",
    "\n",
    "<!-- Right column for image -->\n",
    "<div style=\"width: 38%;\">\n",
    "    <img src=\"./data/quaternion_sphere.png\" alt=\"calibration scheme\" style=\"max-width: 600px; width: 100%; display: block; margin-left: auto; margin-right: auto;margin-top: 100px;\">\n",
    "    <p style=\"text-align: center; font-style: italic; margin-top: 10px;\">Long and Short Path Interpolation on the Quaternion-Hypersphere.</p>\n",
    "</div>\n",
    "\n",
    "</div>"
   ]
  },
  {
   "cell_type": "code",
   "execution_count": 21,
   "id": "c157df85-e728-47b6-a4ac-cab56b8dba38",
   "metadata": {
    "slideshow": {
     "slide_type": "fragment"
    },
    "tags": []
   },
   "outputs": [
    {
     "name": "stdout",
     "output_type": "stream",
     "text": [
      "Quaternion(1.000, 0.000, 0.000, 0.000)\n",
      "[[1 0 0]\n",
      " [0 1 0]\n",
      " [0 0 1]]\n"
     ]
    }
   ],
   "source": [
    "#Example: identity quaternion\n",
    "quat = Quaternion(1,0,0,0)\n",
    "\n",
    "print(quat)\n",
    "print(quat.asRotationMatrix())"
   ]
  },
  {
   "cell_type": "code",
   "execution_count": 22,
   "id": "fb992776-8f70-4c64-823e-c848fbae0173",
   "metadata": {
    "slideshow": {
     "slide_type": "fragment"
    },
    "tags": []
   },
   "outputs": [
    {
     "data": {
      "application/vnd.jupyter.widget-view+json": {
       "model_id": "a713ff484edd4207a79bacc07095187a",
       "version_major": 2,
       "version_minor": 0
      },
      "text/plain": [
       "AppLayout(children=(VBox(children=(Text(value='Quaternion(1.000, 0.000, 0.000, 0.000)', description='Quaternio…"
      ]
     },
     "execution_count": 22,
     "metadata": {},
     "output_type": "execute_result"
    }
   ],
   "source": [
    "#Example: Constructor and Antipodal Property\n",
    "q1 = Quaternion(1,0,0,0)\n",
    "q2 = Quaternion(.900, 0.000, 0.000, 0.434)*(1)\n",
    "\n",
    "\n",
    "fig, ax = create_3d_plot(q2)\n",
    "quaternion_display = create_textbox(\"Quaternion\")\n",
    "s_slider = create_slider(\"s\", 0, 0, 1)\n",
    "x_axis, y_axis, z_axis = draw_frame(ax, [0,0,0], q1.asRotationMatrix())\n",
    "quaternion_display.value = str(q1)\n",
    "def update_plot(change):\n",
    "    global x_axis, y_axis, z_axis\n",
    "    \n",
    "    x_axis.remove()\n",
    "    y_axis.remove()\n",
    "    z_axis.remove()\n",
    "\n",
    "    qm = Quaternion.slerp(q1, q2, s_slider.value)    \n",
    "    \n",
    "    quaternion_display.value = str(qm)\n",
    "    \n",
    "    x_axis, y_axis, z_axis = draw_frame(ax, [0,0,0], qm.asRotationMatrix())\n",
    "    \n",
    "    fig.canvas.draw()\n",
    "    fig.canvas.flush_events()\n",
    "\n",
    "    \n",
    "s_slider.observe(update_plot, names = 'value')\n",
    "\n",
    "widgets.AppLayout(\n",
    "    center=fig.canvas,\n",
    "    footer=widgets.VBox([quaternion_display, s_slider]),\n",
    "    pane_heights=[0, 2, 1]\n",
    ")"
   ]
  },
  {
   "cell_type": "code",
   "execution_count": null,
   "id": "40d1c84d-4048-4911-81cf-a00dbd8bbe1a",
   "metadata": {
    "tags": []
   },
   "outputs": [],
   "source": []
  },
  {
   "cell_type": "markdown",
   "id": "ba1fc642-4374-4f04-bac7-616052181979",
   "metadata": {
    "slideshow": {
     "slide_type": "slide"
    },
    "tags": []
   },
   "source": [
    "<div style=\"font-family: 'Helvetica Neue', Arial, sans-serif;\">\n",
    "<h1 style=\"border-bottom: 2px solid #ddd; padding-bottom: 10px;\">Orientation Representation with Unit Quaternions: Axis Angle</h1>\n",
    "    \n",
    "<p>Given an unit-length axis $ \\hat{\\mathbf{n}} = [n_x, n_y, n_z] $ and an angle $ \\theta $, the corresponding quaternion $ q =(w, \\mathbf{v}) $ is given by:</p>\n",
    "<p>$$ q = (\\cos\\left(\\frac{\\theta}{2}\\right), \\sin\\left(\\frac{\\theta}{2}\\right)\\hat{\\mathbf{n}}) $$</p>\n",
    "</div>"
   ]
  },
  {
   "cell_type": "code",
   "execution_count": 13,
   "id": "31a2e20e-8d9c-4507-9343-f35fb83435a9",
   "metadata": {
    "tags": []
   },
   "outputs": [
    {
     "name": "stdout",
     "output_type": "stream",
     "text": [
      "Quaternion(0.924, 0.383, 0.000, 0.000)\n",
      "Quaternion Rotation:\n",
      "[[   1.000    0.000    0.000]\n",
      " [   0.000    0.707   -0.707]\n",
      " [   0.000    0.707    0.707]]\n"
     ]
    }
   ],
   "source": [
    "#Example: rotation around an axis\n",
    "n = np.array([1,0,0])\n",
    "\n",
    "theta = np.pi/4 # unit: rad\n",
    "\n",
    "q = Quaternion.fromAxisAngle(theta, n)\n",
    "\n",
    "print(q)\n",
    "\n",
    "print(\"Quaternion Rotation:\")\n",
    "print(q.asRotationMatrix())"
   ]
  },
  {
   "cell_type": "markdown",
   "id": "40fe28a2-9cec-4803-8010-788afe78b9d2",
   "metadata": {
    "slideshow": {
     "slide_type": "fragment"
    },
    "tags": []
   },
   "source": [
    "<div style=\"font-family: 'Helvetica Neue', Arial, sans-serif;\">\n",
    "<h1 style=\"border-bottom: 2px solid #ddd; padding-bottom: 10px;\">Axis Angle Demo</h1>\n",
    "\n",
    "</div>"
   ]
  },
  {
   "cell_type": "code",
   "execution_count": 14,
   "id": "b336b790-d54a-4b29-82b1-a284c001b349",
   "metadata": {
    "tags": []
   },
   "outputs": [
    {
     "data": {
      "application/vnd.jupyter.widget-view+json": {
       "model_id": "4bd5a0f7b2e7453894664e25664ab4fe",
       "version_major": 2,
       "version_minor": 0
      },
      "text/plain": [
       "AppLayout(children=(VBox(children=(Text(value='', description='Quaternion', layout=Layout(width='70%')), Float…"
      ]
     },
     "execution_count": 14,
     "metadata": {},
     "output_type": "execute_result"
    }
   ],
   "source": [
    "fig, ax = create_3d_plot()\n",
    "quaternion_display = create_textbox(\"Quaternion\")\n",
    "angle_slider, azimuth_slider, elevation_slider = create_quaternion_sliders()\n",
    "\n",
    "rotation_axis = create_quiver(ax, [0,0,0], [1,0,0],1, 'grey')\n",
    "imaginary_part = create_quiver(ax, [0,0,0], [0,0,0], 3, 'k')\n",
    "x_axis, y_axis, z_axis = draw_frame(ax, [0,0,0], np.eye(3))\n",
    "point_w = ax.scatter(0,0,1,s = 30, c = 'k')\n",
    "\n",
    "# Update function for the sliders\n",
    "def update_plot(change):\n",
    "    global rotation_axis, imaginary_part, x_axis, y_axis, z_axis, point_w\n",
    "\n",
    "    rotation_axis.remove()\n",
    "    imaginary_part.remove()\n",
    "    x_axis.remove()\n",
    "    y_axis.remove()\n",
    "    z_axis.remove()\n",
    "    point_w.remove()\n",
    "    \n",
    "    angle = angle_slider.value\n",
    "    direction = spherical_coordinates(azimuth_slider.value, elevation_slider.value)\n",
    "    \n",
    "    # construct unit quaternion from axis angle\n",
    "    quaternion = Quaternion.fromAxisAngle(angle, direction)    \n",
    "    \n",
    "    # update displays\n",
    "    quaternion_display.value = str(quaternion)\n",
    "    \n",
    "    # update the drawn vectors\n",
    "    rotation_axis = create_quiver(ax, [0,0,0], direction, 1, 'grey')\n",
    "    imaginary_part = create_quiver(ax, [0,0,0], [quaternion.x, quaternion.y, quaternion.z], 3, 'k')\n",
    "    x_axis, y_axis, z_axis = draw_frame(ax, [0,0,0], quaternion.asRotationMatrix())\n",
    "    \n",
    "    point_w = ax.scatter(0,0,quaternion.w, s = 30, c = \"k\")\n",
    "    fig.canvas.draw()\n",
    "    fig.canvas.flush_events()\n",
    "\n",
    "    \n",
    "angle_slider.observe(update_plot, names = 'value')\n",
    "azimuth_slider.observe(update_plot, names='value')\n",
    "elevation_slider.observe(update_plot, names='value')\n",
    "\n",
    "widgets.AppLayout(\n",
    "    center=fig.canvas,\n",
    "    footer=widgets.VBox([quaternion_display, angle_slider, azimuth_slider, elevation_slider]),\n",
    "    pane_heights=[0, 3, 1]\n",
    ")"
   ]
  },
  {
   "cell_type": "code",
   "execution_count": null,
   "id": "26376c09-7f2e-4773-aaf1-8efa5cf3d970",
   "metadata": {},
   "outputs": [],
   "source": []
  },
  {
   "cell_type": "markdown",
   "id": "19449eb0-b91b-4875-a329-7c02a83aa662",
   "metadata": {
    "slideshow": {
     "slide_type": "slide"
    },
    "tags": []
   },
   "source": [
    "<div style=\"font-family: 'Helvetica Neue', Arial, sans-serif;\">\n",
    "<h1 style=\"border-bottom: 2px solid #ddd; padding-bottom: 10px;\">Pure Quaternions and the Quaternion Rotation Operation (Point Transformation):</h1>\n",
    "\n",
    "<p>\n",
    "    An arbitrary vector $\\mathbf{x} \\in \\mathbb{R}^3$ expressed as <strong>pure quaternion</strong>: $\\bar{p}^0 = 0 + x_1i + x_2k + x_3j$ can be rotated by any unit quaternion $q$.\n",
    "</p>\n",
    "\n",
    "<p>\n",
    "    $$ \\bar{p}^1 = q^1_0 \\otimes \\bar{p}^0 \\otimes q^1_0 * $$\n",
    "</p>\n",
    "    \n",
    "Note:\n",
    "<ul>\n",
    "    <li>analogue to the Rotation Matrix Operation: $\\mathbf{x}^1 = R^1_0\\mathbf{x}^0$</li>\n",
    "    <li>Quaternion multipication is written as $\\otimes$</li>\n",
    "    <li>the conjugate of $q$ is: $q* = w - xi - yj - zk$</li>\n",
    "    <li>conjugate and inverse are the same operation for unit quaternions</li>\n",
    "</ul>\n",
    "</div>\n",
    "\n",
    "\n"
   ]
  },
  {
   "cell_type": "markdown",
   "id": "6d5ef4d3-0ed7-4c0a-a002-60f54ca6c8c8",
   "metadata": {
    "slideshow": {
     "slide_type": "fragment"
    },
    "tags": []
   },
   "source": [
    "<div style=\"font-family: 'Helvetica Neue', Arial, sans-serif;\">\n",
    "<h1 style=\"border-bottom: 2px solid #ddd; padding-bottom: 10px;\">Point Transformation Demo:</h1>\n",
    "\n",
    "</div>"
   ]
  },
  {
   "cell_type": "code",
   "execution_count": 15,
   "id": "0ae549db-12bb-45c5-a174-779ce3837449",
   "metadata": {
    "tags": []
   },
   "outputs": [
    {
     "data": {
      "application/vnd.jupyter.widget-view+json": {
       "model_id": "e7c15f93ccf54d299273fcb537988996",
       "version_major": 2,
       "version_minor": 0
      },
      "text/plain": [
       "AppLayout(children=(VBox(children=(Text(value='', description='Vector', layout=Layout(width='70%')), Text(valu…"
      ]
     },
     "execution_count": 15,
     "metadata": {},
     "output_type": "execute_result"
    }
   ],
   "source": [
    "fig, ax = create_3d_plot()\n",
    "vector_display = create_textbox(\"Vector\")\n",
    "quaternion_display = create_textbox(\"Quaternion\")\n",
    "angle_slider, azimuth_slider, elevation_slider = create_quaternion_sliders()\n",
    "\n",
    "# define vector as pure quaternion\n",
    "p = Quaternion(0, 1, 0.5, 0.5)\n",
    "\n",
    "rotation_axis = create_quiver(ax, [0,0,0], [1,0,0], 1, 'k')\n",
    "vector = create_quiver(ax, [0,0,0], p.getVector().flatten(), 2, 'grey')\n",
    "arc, = ax.plot([0,0], [0,0], [0,0], color = 'b', linewidth = 2)\n",
    "    \n",
    "# Update function for the sliders\n",
    "def update_plot(change):\n",
    "    \n",
    "    global rotation_axis, vector, arc\n",
    "    \n",
    "    rotation_axis.remove()\n",
    "    vector.remove()\n",
    "    \n",
    "    angle = angle_slider.value\n",
    "    direction = spherical_coordinates(azimuth_slider.value, elevation_slider.value)\n",
    "    \n",
    "    # construct unit quaternion from axis angle\n",
    "    quaternion = Quaternion.fromAxisAngle(angle, direction)    \n",
    "    \n",
    "    # rotate the pure quaternion with the point transformation operator\n",
    "    p_rotated = quaternion*p*quaternion.conjugate()\n",
    "    \n",
    "    # update displays\n",
    "    vector_display.value = str(p_rotated)\n",
    "    quaternion_display.value = str(quaternion)\n",
    "    \n",
    "    # update the drawn vectors and the arc\n",
    "    rotation_axis = create_quiver(ax, [0,0,0], direction, 1, 'k')\n",
    "    vector = create_quiver(ax, [0,0,0], p_rotated.getVector().flatten(), 2, 'grey')\n",
    "    update_arc(arc, quaternion, p)\n",
    "    \n",
    "    fig.canvas.draw()\n",
    "    fig.canvas.flush_events()\n",
    "\n",
    "    \n",
    "angle_slider.observe(update_plot, names = 'value')\n",
    "azimuth_slider.observe(update_plot, names='value')\n",
    "elevation_slider.observe(update_plot, names='value')\n",
    "\n",
    "widgets.AppLayout(\n",
    "    center=fig.canvas,\n",
    "    footer=widgets.VBox([vector_display, quaternion_display, angle_slider, azimuth_slider, elevation_slider]),\n",
    "    pane_heights=[0, 2, 1]\n",
    ")"
   ]
  },
  {
   "cell_type": "code",
   "execution_count": null,
   "id": "d98dac25-0c01-46c5-8413-dfb1eed3bca6",
   "metadata": {},
   "outputs": [],
   "source": []
  },
  {
   "cell_type": "markdown",
   "id": "3b22b39a-5c88-42a4-b170-73165c77702f",
   "metadata": {
    "slideshow": {
     "slide_type": "slide"
    },
    "tags": []
   },
   "source": [
    "<h1 style=\"font-family: 'Helvetica Neue', Arial, sans-serif; border-bottom: 2px solid #ddd; padding-bottom: 10px;\">Complex Exponential and Logarithmic Map:</h1>\n",
    "<div style=\"font-family: 'Helvetica Neue', Arial, sans-serif; display: flex; justify-content: space-between;\">\n",
    "\n",
    "<!-- Left column for text -->\n",
    "<div style=\"width: 68%;\">\n",
    "\n",
    "<h3>Recall: Euler's Formula:</h3>\n",
    "<p>\n",
    "    The exponential map (Euler's Formula) is defined as:\n",
    "</p>\n",
    "    \n",
    "<p>\n",
    "    $$ e^{\\theta i} = z = \\cos(\\theta) + i \\sin(\\theta) $$\n",
    "</p>\n",
    "    \n",
    "<p>\n",
    "    Exponential map:\n",
    "</p>   \n",
    "<p>\n",
    " $$  \\mathbb{R} \\to S^1 $$\n",
    " $$ \\theta \\to e^{\\theta i} $$\n",
    "</p>\n",
    "\n",
    "\n",
    "<p>\n",
    "    The logarithmic map is defined as:\n",
    "</p>\n",
    "\n",
    "<p>\n",
    "    $$ \\log(z) = \\theta i  $$\n",
    "</p>\n",
    "<p>\n",
    "    Logarithmic map:\n",
    "</p>  \n",
    "    \n",
    "<p>\n",
    " $$ S^1  \\to \\mathbb{R} $$\n",
    " $$ e^{\\theta i} \\to \\theta $$\n",
    "</p>\n",
    "    \n",
    "</div>\n",
    "\n",
    "<!-- Right column for image -->\n",
    "<div style=\"width: 28%;\">\n",
    "    <img src=\"./data/exp_log_s1.png\" alt=\"calibration scheme\" style=\"max-width: 600px; width: 100%; display: block; margin-left: auto; margin-right: auto;margin-top: 100px;\">\n",
    "    <p style=\"text-align: center; font-style: italic; margin-top: 10px;\">Exp and Log map on the complex unit circle.</p>\n",
    "</div>\n",
    "\n",
    "</div>"
   ]
  },
  {
   "cell_type": "markdown",
   "id": "c792a2d2-0414-4ea9-ae55-172888c012f6",
   "metadata": {
    "slideshow": {
     "slide_type": "slide"
    },
    "tags": []
   },
   "source": [
    "<h1 style=\"font-family: 'Helvetica Neue', Arial, sans-serif; border-bottom: 2px solid #ddd; padding-bottom: 10px;\">Unit Quaternion Exponential and Logarithmic Map:</h1>\n",
    "<div style=\"font-family: 'Helvetica Neue', Arial, sans-serif; display: flex; justify-content: space-between;\">\n",
    "\n",
    "<!-- Left column for text -->\n",
    "<div style=\"width: 68%;\">\n",
    "\n",
    "<h3>Exponential map of a unit quaternion</h3>\n",
    "<p>\n",
    "    Given the product of angle and rotation axis $\\mathbf{v} = \\frac{\\theta}{2}\\hat{\\mathbf{n}}$, the <strong>exponential map of a unit quaternion</strong> is defined similarly to the exponential of a complex number:\n",
    "<p>\n",
    "   $$ e^{\\mathbf{v}} = \\cos(\\|\\mathbf{v}\\|) + \\frac{\\mathbf{v}}{\\|\\mathbf{v}\\|} \\sin(\\|\\mathbf{v}\\|)$$\n",
    "</p>\n",
    "<h4>Note:</h4>\n",
    "<ul>\n",
    "    <li> map: $  \\mathbb{R}^3 \\to S^3 $ </li>\n",
    "    <li>$\\|\\mathbf{v}\\| = \\frac{\\theta}{2}$</li>\n",
    "    <li>zero-angle singularity $\\|\\mathbf{v}\\| = 0$ (can be handled with tailor series expansion)</li>\n",
    "    <li>note similarity to axis angle contructor</li>\n",
    "</ul>\n",
    "\n",
    "<h3>Logarithmic map of a unit quaternion</h3>\n",
    "<p>\n",
    "    The <strong>logarithm</strong> of $q = (w, \\mathbf{v})$ is defined as:\n",
    "</p>\n",
    "<p>\n",
    "    $$ \\log(q) =  \\arccos\\left(w\\right)\\frac{\\mathbf{v}}{\\|\\mathbf{v}\\|} = \\frac{\\theta}{2}\\hat{\\mathbf{n}} $$\n",
    "</p>\n",
    "<h4>Note:</h4>\n",
    "<ul>\n",
    "    <li>map: $ S^3 \\to \\mathbb{R}^3 $</li>\n",
    "    <li>zero-angle singularity when $ \\|\\mathbf{v}\\| = 0$ (can be handled with tailor series expansion)</li>\n",
    "    <li>$log(q) = \\frac{\\theta}{2}\\hat{\\mathbf{n}}$</li>\n",
    "</ul>\n",
    "    \n",
    "</div>\n",
    "\n",
    "<!-- Right column for image -->\n",
    "<div style=\"width: 28%;\">\n",
    "    <img src=\"./data/quaternion_exp_log.png\" alt=\"calibration scheme\" style=\"max-width: 600px; width: 100%; display: block; margin-left: auto; margin-right: auto;margin-top: 100px;\">\n",
    "    <p style=\"text-align: center; font-style: italic; margin-top: 10px;\">Exp and Log map on the $S^3$ Hypersphere.</p>\n",
    "</div>\n",
    "\n",
    "</div>"
   ]
  },
  {
   "cell_type": "markdown",
   "id": "32ce1748-f6d6-462e-ac03-4d9c92dc5450",
   "metadata": {
    "slideshow": {
     "slide_type": "slide"
    },
    "tags": []
   },
   "source": [
    "<div style=\"font-family: 'Helvetica Neue', Arial, sans-serif;\">\n",
    "<h1 style=\"border-bottom: 2px solid #ddd; padding-bottom: 10px;\">Quaternions: Comparison to Rotation Matrices</h1>\n",
    "    \n",
    "<table border=\"1\" style=\"font-size: 24px;\">\n",
    "    <thead>\n",
    "        <tr>\n",
    "            <th style=\"padding: 10px 20px;\">Property</th>\n",
    "            <th style=\"padding: 10px 20px;\">Rotation Matrices</th>\n",
    "            <th style=\"padding: 10px 20px;\">Quaternions</th>\n",
    "        </tr>\n",
    "    </thead>\n",
    "    <tbody>\n",
    "        <tr>\n",
    "            <td style=\"padding: 10px 20px;\">Information Content</td>\n",
    "            <td style=\"padding: 10px 20px;\">Orientation</td>\n",
    "            <td style=\"padding: 10px 20px;\">Orientation and Rotation</td>\n",
    "        </tr>\n",
    "        <tr>\n",
    "            <td style=\"padding: 10px 20px;\">Composition</td>\n",
    "            <td style=\"padding: 10px 20px;\">Matrix multiplication</td>\n",
    "            <td style=\"padding: 10px 20px;\">Quaternion multiplication</td>\n",
    "        </tr>\n",
    "        <tr>\n",
    "            <td style=\"padding: 10px 20px;\">Interpolation</td>\n",
    "            <td style=\"padding: 10px 20px;\">Not straightforward</td>\n",
    "            <td style=\"padding: 10px 20px;\">very easy (SLERP can be directly applied)</td>\n",
    "        </tr>\n",
    "        <tr>\n",
    "            <td style=\"padding: 10px 20px;\">Memory</td>\n",
    "            <td style=\"padding: 10px 20px;\">9 values</td>\n",
    "            <td style=\"padding: 10px 20px;\">4 values</td>\n",
    "        </tr>\n",
    "        <tr>\n",
    "            <td style=\"padding: 10px 20px;\">Computational Efficiency</td>\n",
    "            <td style=\"padding: 10px 20px;\">More computationally intensive for certain operations</td>\n",
    "            <td style=\"padding: 10px 20px;\">Generally more efficient for composition and interpolation</td>\n",
    "        </tr>\n",
    "        <tr>\n",
    "            <td style=\"padding: 10px 20px;\">Gimbal Lock</td>\n",
    "            <td style=\"padding: 10px 20px;\">Can suffer from Gimbal lock when using Euler angles</td>\n",
    "            <td style=\"padding: 10px 20px;\">Does not suffer from Gimbal lock</td>\n",
    "        </tr>\n",
    "        <tr>\n",
    "            <td style=\"padding: 10px 20px;\">Normalization</td>\n",
    "            <td style=\"padding: 10px 20px;\">Orthonormalization needed after several operations</td>\n",
    "            <td style=\"padding: 10px 20px;\">Requires re-normalization after several operations</td>\n",
    "        </tr>\n",
    "    </tbody>\n",
    "</table>\n",
    "\n",
    "</div>\n"
   ]
  },
  {
   "cell_type": "markdown",
   "id": "9d866695-fa8b-4cdb-9bf0-2f0a7b794a79",
   "metadata": {
    "slideshow": {
     "slide_type": "fragment"
    },
    "tags": []
   },
   "source": [
    "<div style=\"font-family: 'Helvetica Neue', Arial, sans-serif;\">\n",
    "<h1 style=\"border-bottom: 2px solid #ddd; padding-bottom: 10px;\">Gimbal Lock Demo: </h1>\n",
    "\n",
    "</div>\n",
    "\n"
   ]
  },
  {
   "cell_type": "code",
   "execution_count": 46,
   "id": "e570b048-184c-4fee-854f-b9a81005db81",
   "metadata": {
    "tags": []
   },
   "outputs": [
    {
     "data": {
      "application/vnd.jupyter.widget-view+json": {
       "model_id": "4b10ab619ef246ffbba213e7bd52fea8",
       "version_major": 2,
       "version_minor": 0
      },
      "text/plain": [
       "AppLayout(children=(VBox(children=(Text(value='', description='Quaternion log:', layout=Layout(width='70%')), …"
      ]
     },
     "execution_count": 46,
     "metadata": {},
     "output_type": "execute_result"
    }
   ],
   "source": [
    "# Create a gridspec layout\n",
    "gs = gridspec.GridSpec(2, 2, width_ratios=[1, 1])\n",
    "\n",
    "\n",
    "# Create the main 3D plot on the left\n",
    "fig = plt.figure(figsize=(16, 6))\n",
    "ax3d = fig.add_subplot(gs[:, 0], projection='3d')\n",
    "fig.canvas.header_visible = False\n",
    "fig.canvas.layout.min_height = '400px'\n",
    "ax3d.set_xlim([-1, 1])\n",
    "ax3d.set_ylim([-1, 1])\n",
    "ax3d.set_zlim([-1, 1])\n",
    "ax3d.set_axis_off()\n",
    "ax3d.set_box_aspect([1, 1, 1])\n",
    "ax3d.set_facecolor('white')\n",
    "\n",
    "# Create two 2D plots on the right\n",
    "ax2d_1 = fig.add_subplot(gs[0, 1])\n",
    "ax2d_2 = fig.add_subplot(gs[1, 1])\n",
    "\n",
    "ax2d_1.set_facecolor('white')\n",
    "ax2d_2.set_facecolor('white')\n",
    "\n",
    "ax2d_2.set_ylim(-3.15, 3.15)\n",
    "ax2d_1.set_ylim(-3.3, 3.3)\n",
    "#plt.tight_layout()\n",
    "\n",
    "# Parameters\n",
    "max_length = 30  # Maximum number of points to display\n",
    "x = np.linspace(0, max_length-1, max_length)\n",
    "\n",
    "y1 = deque(maxlen=max_length)\n",
    "y1.extend([0]*max_length)\n",
    "\n",
    "y2 = deque(maxlen=max_length)\n",
    "y2.extend([0]*max_length)\n",
    "\n",
    "y3 = deque(maxlen=max_length)\n",
    "y3.extend([0]*max_length)\n",
    "\n",
    "line1, = ax2d_2.plot(x, y1, linewidth = 2)\n",
    "line2, = ax2d_2.plot(x, y2, linewidth = 2)\n",
    "line3, = ax2d_2.plot(x, y3, linewidth = 2)\n",
    "\n",
    "y4 = deque(maxlen=max_length)\n",
    "y4.extend([0]*max_length)\n",
    "\n",
    "y5 = deque(maxlen=max_length)\n",
    "y5.extend([0]*max_length)\n",
    "\n",
    "y6 = deque(maxlen=max_length)\n",
    "y6.extend([0]*max_length)\n",
    "\n",
    "line4, = ax2d_1.plot(x, y4, linewidth = 2)\n",
    "line5, = ax2d_1.plot(x, y5, linewidth = 2)\n",
    "line6, = ax2d_1.plot(x, y6, linewidth = 2)\n",
    "\n",
    "rx_slider = create_angle_slider(\"rotate X\")\n",
    "ry_slider = create_angle_slider(\"rotate Y\")\n",
    "rz_slider = create_angle_slider(\"rotate Z\")\n",
    "\n",
    "# Create textboxes to display RPY values\n",
    "roll_display = create_textbox(\"Roll:\")\n",
    "pitch_display = create_textbox(\"Pitch:\")\n",
    "yaw_display = create_textbox(\"Yaw:\")\n",
    "log_display = create_textbox(\"Quaternion log:\")\n",
    "\n",
    "x_axis, y_axis, z_axis = draw_frame(ax3d, [0,0,0], np.eye(3))\n",
    "\n",
    "# Update function for the sliders\n",
    "def update_plot(change):\n",
    "\n",
    "    global x_axis\n",
    "    global y_axis\n",
    "    global z_axis\n",
    "    \n",
    "    x_axis.remove()\n",
    "    y_axis.remove()\n",
    "    z_axis.remove()\n",
    "    \n",
    "    # Create quaternions for each rotation\n",
    "    qx = Quaternion.fromAxisAngle(rx_slider.value, np.array([1,0,0]))\n",
    "    qy = Quaternion.fromAxisAngle(ry_slider.value, np.array([0,1,0]))\n",
    "    qz = Quaternion.fromAxisAngle(rz_slider.value, np.array([0,0,1]))\n",
    "    \n",
    "    #RPY as quaternion\n",
    "    q = qx * qy * qz\n",
    "\n",
    "    log = q.log()\n",
    "    roll, pitch, yaw = rpy_from_R(q.asRotationMatrix())\n",
    "    \n",
    "    y1.append(roll)\n",
    "    y2.append(pitch)\n",
    "    y3.append(yaw)\n",
    "    y4.append(log.x)\n",
    "    y5.append(log.y)\n",
    "    y6.append(log.z)\n",
    "    \n",
    "    line1.set_ydata(y1)\n",
    "    line2.set_ydata(y2)\n",
    "    line3.set_ydata(y3)\n",
    "    \n",
    "    line4.set_ydata(y4)\n",
    "    line5.set_ydata(y5)\n",
    "    line6.set_ydata(y6)\n",
    "\n",
    "    # display the calculated values\n",
    "    log_display.value = ', '.join(['{:.2f}'.format(i) for i in log.getVector().flatten()])\n",
    "    roll_display.value = '{:.2f}'.format(roll)\n",
    "    pitch_display.value = '{:.2f}'.format(pitch)\n",
    "    yaw_display.value = '{:.2f}'.format(yaw)\n",
    "    \n",
    "    # Update the drawn vectors using the combined quaternion rotation\n",
    "    x_axis, y_axis, z_axis = draw_frame(ax3d, [0, 0, 0], q.asRotationMatrix())\n",
    "\n",
    "    fig.canvas.draw()\n",
    "    fig.canvas.flush_events()\n",
    "\n",
    "rx_slider.observe(update_plot, names='value')\n",
    "ry_slider.observe(update_plot, names='value')\n",
    "rz_slider.observe(update_plot, names='value')\n",
    "\n",
    "widgets.AppLayout(\n",
    "    center=fig.canvas,\n",
    "    footer=widgets.VBox([log_display, roll_display, pitch_display, yaw_display, rx_slider, ry_slider, rz_slider]),\n",
    "    pane_heights=[0, 2, 1]\n",
    ")"
   ]
  },
  {
   "cell_type": "code",
   "execution_count": null,
   "id": "040e07e8-7607-4284-88b8-b81ca012c3b6",
   "metadata": {},
   "outputs": [],
   "source": []
  },
  {
   "cell_type": "markdown",
   "id": "5636fcaa-642a-43a1-b287-5468d0c4afe3",
   "metadata": {
    "slideshow": {
     "slide_type": "slide"
    },
    "tags": []
   },
   "source": [
    "<div style=\"font-family: 'Helvetica Neue', Arial, sans-serif;\">\n",
    "<h1 style=\"border-bottom: 2px solid #ddd; padding-bottom: 10px;\">Transformation Representation with Dual-Quaternions</h1>\n",
    "\n",
    "<p>Unit Dual-Quaternions are a system for representing transformation in three dimensions, composed of two Quaternions $q_r$ and $q_d$.</p>\n",
    "\n",
    "<h3>Features:</h3>\n",
    "<ul>\n",
    "<li>Dual-Quaternion: $ \\underline{\\xi} = q_r + \\epsilon q_d $\n",
    "    <ul>\n",
    "        <li>Quaternion $q_r$: <strong>real part</strong></li>\n",
    "        <li>Quaternion $q_d$: <strong>dual part</strong></li>\n",
    "    </ul>\n",
    "</li>\n",
    "\n",
    "<li>$ \\epsilon^2 = 0 $ : dual unit.</li>\n",
    "</ul>\n",
    "    \n",
    "<h3>Notation:</h3>\n",
    "<ul>\n",
    "<li>Dual-Quaternion: $ \\underline{\\xi} = q_r + \\epsilon q_d $</li>\n",
    "<li>Dual-Quaternion: $ \\underline{\\xi} = (w_r, \\mathbf{v}_r) + \\epsilon (w_d, \\mathbf{v}_d) $</li>\n",
    "    <li>Dual-Quaternion: $ \\underline{\\xi} = (w_r, x_r, y_r, z_r) + \\epsilon (w_d, x_d, y_d, z_d) $</li>\n",
    "</ul>  \n",
    "</div>"
   ]
  },
  {
   "cell_type": "markdown",
   "id": "680209dd-fc56-410d-85ac-8a1486d3f0fd",
   "metadata": {
    "slideshow": {
     "slide_type": "slide"
    },
    "tags": []
   },
   "source": [
    "<div style=\"font-family: 'Helvetica Neue', Arial, sans-serif;\">\n",
    "<h1 style=\"border-bottom: 2px solid #ddd; padding-bottom: 10px;\">Multiplication of Dual Quaternions</h1>\n",
    "\n",
    "    \n",
    "<h3 style =\"padding-top: 10px\">Comparison to Homogeneous Transformation Matrices:</h3>\n",
    "\n",
    "<p>Dual Quaternion Multiplication is similar to the multiplication of Transformation matrices \n",
    "\n",
    "$$\n",
    "\\underline{\\xi}_2^0= \\underline{\\xi}_1^0 \\otimes \\underline{\\xi}_2^1 \n",
    "$$\n",
    "\n",
    "corresponds to: \n",
    "\n",
    "$$\n",
    "T_2^0= T_1^0 T_2^1 \n",
    "$$\n",
    "<h3 style =\"padding-top: 10px\">Dual Quaternion Multiplication $\\otimes$:</h3>\n",
    "<p>The multiplication of two dual quaternions $\\underline{\\xi}_1$ and $\\underline{\\xi}_2$ can be done as follows:\n",
    "\n",
    "$$\n",
    "\\underline{\\xi}_1 \\otimes \\underline{\\xi}_2 = (q_r^{(1)} + \\epsilon q_d^{(1)}) \\otimes (q_r^{(2)} + \\epsilon q_d^{(2)})\n",
    "$$\n",
    "\n",
    "$$\n",
    "\\underline{\\xi}_1 \\otimes \\underline{\\xi}_2 = (q_r^{(1)} \\otimes q_r^{(2)}) + \\epsilon(q_r^{(1)} \\otimes q_d^{(2)} + q_d^{(1)} \\otimes q_r^{(2)}) + \\epsilon^2(q_d^{(1)} \\otimes q_d^{(2)})\n",
    "$$\n",
    "\n",
    "with $ \\epsilon^2 = 0 $ the new dual quaternion is written like \n",
    "\n",
    "$$\n",
    "\\underline{\\xi}_3= (q_r^{(1)} \\otimes q_r^{(2)}) + \\epsilon(q_r^{(1)} \\otimes q_d^{(2)} + q_d^{(1)} \\otimes q_r^{(2)})\n",
    "$$\n",
    "</p>\n",
    "    \n",
    "\n",
    "    \n",
    "</p>\n",
    "</div>\n",
    "\n",
    "\n"
   ]
  },
  {
   "cell_type": "markdown",
   "id": "fa313e5a-47b9-4c79-83d0-2f212e75a563",
   "metadata": {
    "slideshow": {
     "slide_type": "slide"
    },
    "tags": []
   },
   "source": [
    "<div style=\"font-family: 'Helvetica Neue', Arial, sans-serif;\">\n",
    "<h1 style=\"border-bottom: 2px solid #ddd; padding-bottom: 10px;\">Dual Quaternion Basic Transformation</h1>\n",
    "\n",
    "<p>given the unit quaternion $q_r$ and the pure quaternion $\\bar{t}$ the Dual-Quaternion Transformation can be defined:</p>\n",
    "<p>Note:</p>\n",
    "<ul>\n",
    "    <li>$q_r = (w, \\mathbf{v})$: defines rotation/orientation of frame</li>\n",
    "    <li>$\\bar{t} = (0,x,y,z)$: defines position of frame</li>\n",
    "</ul>\n",
    "\n",
    "\n",
    "<h3> First Translation, then Rotation</h3>\n",
    "<p>\n",
    "$$ \n",
    "\\underline{\\xi} = q_r + \\epsilon \\frac{1}{2} \\bar{t} \\otimes q_r \n",
    "$$\n",
    "</p>\n",
    "    \n",
    "<h3> First Rotation, then Translation</h3>\n",
    "<p>   \n",
    "$$ \n",
    "\\underline{\\xi} = q_r + \\epsilon \\frac{1}{2} q_r \\otimes \\bar{t}  \n",
    "$$\n",
    "\n",
    "</p>\n",
    "    \n",
    "<p>Note: For robotics usually first translation, then rotation is practical and intuitive</p>\n",
    "</div>\n"
   ]
  },
  {
   "cell_type": "markdown",
   "id": "e49d4c07-595f-46f8-a420-b9cae5413672",
   "metadata": {
    "slideshow": {
     "slide_type": "fragment"
    },
    "tags": []
   },
   "source": [
    "<div style=\"font-family: 'Helvetica Neue', Arial, sans-serif;\">\n",
    "<h1 style=\"border-bottom: 2px solid #ddd; padding-bottom: 10px;\">Dual Quaternion Basic Transformation Demo:</h1>\n",
    "\n",
    "<p>Example shown is: $\\underline{\\xi} = q_r + \\epsilon \\frac{1}{2} \\bar{t} \\otimes q_r $</p>\n",
    "\n",
    "</div>"
   ]
  },
  {
   "cell_type": "code",
   "execution_count": 19,
   "id": "2b8af972-b765-4217-9d9a-9d3410ef8881",
   "metadata": {
    "tags": []
   },
   "outputs": [
    {
     "data": {
      "application/vnd.jupyter.widget-view+json": {
       "model_id": "91e1a240c24b47d098edda8aa0d08b86",
       "version_major": 2,
       "version_minor": 0
      },
      "text/plain": [
       "AppLayout(children=(VBox(children=(Text(value='', description='Dual Quaternion', layout=Layout(width='70%')), …"
      ]
     },
     "execution_count": 19,
     "metadata": {},
     "output_type": "execute_result"
    }
   ],
   "source": [
    "fig, ax = create_3d_plot()\n",
    "dual_quaternion_display = create_textbox(\"Dual Quaternion\")\n",
    "angle_slider, azimuth_slider, elevation_slider = create_quaternion_sliders()\n",
    "x_slider, y_slider, z_slider = create_position_sliders()\n",
    "\n",
    "rotation_axis = create_quiver(ax, [0,0,0], [1,0,0], 1, 'k')\n",
    "x_axis, y_axis, z_axis = draw_frame(ax, [0,0,0], np.eye(3))\n",
    "\n",
    "# Update function for the sliders\n",
    "def update_plot(change):\n",
    "    global rotation_axis, x_axis, y_axis, z_axis\n",
    "\n",
    "    rotation_axis.remove()\n",
    "    x_axis.remove()\n",
    "    y_axis.remove()\n",
    "    z_axis.remove()\n",
    "    \n",
    "    direction = spherical_coordinates(azimuth_slider.value, elevation_slider.value)\n",
    "    \n",
    "    # construct unit quaternion from axis angle\n",
    "    q_r = Quaternion.fromAxisAngle(angle_slider.value, direction)\n",
    "    \n",
    "    # set position vector\n",
    "    pos = [x_slider.value, y_slider.value, z_slider.value]\n",
    "    \n",
    "    dq = DualQuaternion.fromQuatPos(q_r, pos)\n",
    "    \n",
    "    # update displays\n",
    "    dual_quaternion_display.value = str(dq)\n",
    "    \n",
    "    # update the drawn vectors and the arc\n",
    "    rotation_axis = create_quiver(ax, dq.getPosition().flatten(), direction,1, 'grey')\n",
    "    x_axis, y_axis, z_axis = draw_frame(ax, dq.getPosition().flatten(), q_r.asRotationMatrix())\n",
    "    fig.canvas.draw()\n",
    "    fig.canvas.flush_events()\n",
    "\n",
    "    \n",
    "angle_slider.observe(update_plot, names = 'value')\n",
    "azimuth_slider.observe(update_plot, names='value')\n",
    "elevation_slider.observe(update_plot, names='value')\n",
    "x_slider.observe(update_plot, names='value')\n",
    "y_slider.observe(update_plot, names='value')\n",
    "z_slider.observe(update_plot, names='value')\n",
    "\n",
    "widgets.AppLayout(\n",
    "    center=fig.canvas,\n",
    "    footer=widgets.VBox([dual_quaternion_display, angle_slider, azimuth_slider, elevation_slider, x_slider, y_slider, z_slider]),\n",
    "    pane_heights=[0, 2, 1]\n",
    ")"
   ]
  },
  {
   "cell_type": "code",
   "execution_count": null,
   "id": "34a36efb-ed4f-4d7d-8381-cb6f38281270",
   "metadata": {},
   "outputs": [],
   "source": []
  },
  {
   "cell_type": "markdown",
   "id": "583d64f9-c7e3-45f2-9166-4b0b2d6517f9",
   "metadata": {
    "slideshow": {
     "slide_type": "slide"
    },
    "tags": []
   },
   "source": [
    "<div style=\"font-family: 'Helvetica Neue', Arial, sans-serif;\">\n",
    "<h1 style=\"border-bottom: 2px solid #ddd; padding-bottom: 10px;\">Pure Dual-Quaternions and the Dual-Quaternion Adjoint operation (Line Transformation):</h1>\n",
    "\n",
    "<p>\n",
    "    An arbitrary vector $\\mathbf{x} \\in \\mathbb{R}^6$ expressed as pure Dual-Quaternion  $\\bar{\\underline{\\zeta}}^0 = (0 + x_1i + x_2k + x_3j) + \\epsilon(0 + x_4i + x_5k + x_6j)$ can transformed by any dual-quaternion $\\underline{\\xi}$.\n",
    "</p>\n",
    "\n",
    "<p>\n",
    "    $$ \\bar{\\underline{\\zeta}}^1 = \\underline{\\xi}^1_0 \\otimes \\bar{\\underline{\\zeta}}^0 \\otimes \\underline{\\xi}^1_0 * $$\n",
    "</p>\n",
    "    \n",
    "<p>Note:</p>\n",
    "<ul>\n",
    "    <li>analogue to the Adjoint Matrix Operation: $\\mathbf{x}^1 = adj(T^1_0)\\mathbf{x}^0$</li>\n",
    "    <li>Dual Quaternion multipication is written as $\\otimes$</li>\n",
    "    <li>the conjugate of $\\underline{\\xi}$ is: $\\underline{\\xi}* = q_r* + \\epsilon q_d*$</li>\n",
    "</ul>\n",
    "</div>\n"
   ]
  },
  {
   "cell_type": "markdown",
   "id": "03bcbf1e-b493-4269-a458-3f06abfa2edb",
   "metadata": {
    "slideshow": {
     "slide_type": "slide"
    },
    "tags": []
   },
   "source": [
    "<h1 style=\"font-family: 'Helvetica Neue', Arial, sans-serif; border-bottom: 2px solid #ddd; padding-bottom: 10px;\">Line Transformation Example: Wrench</h1>\n",
    "<div style=\"font-family: 'Helvetica Neue', Arial, sans-serif; display: flex; justify-content: space-between;\">\n",
    "\n",
    "<!-- Left column for text -->\n",
    "<div style=\"width: 48%;\">\n",
    "<p>\n",
    "Moments and Forces can be put into one Vector $W = (f, m) = (f_x, f_y, f_z, m_x, m_y, m_z)$ called Wrench. \n",
    "</p>\n",
    "\n",
    "<p>\n",
    "If the Wrench of a Frame is moved into another frame, the moments and forces change.\n",
    "if $W$ is expressed as pure dual-quaternion $\\bar{\\underline{W}}$, this can be calculated with the Line Transformation.\n",
    "    \n",
    "$$ \\bar{\\underline{W}}^2 = \\underline{\\xi}^2_1 \\otimes \\bar{\\underline{W}}^1 \\otimes \\underline{\\xi}^2_1 *$$\n",
    "</p>\n",
    "    \n",
    "</div>\n",
    "\n",
    "<!-- Right column for image -->\n",
    "<div style=\"width: 48%;\">\n",
    "    <img src=\"./data/wrench.png\" alt=\"calibration scheme\" style=\"max-width: 350px; width: 100%; display: block; margin-left: auto; margin-right: auto;margin-top: 10px;\">\n",
    "</div>\n",
    "\n",
    "</div>"
   ]
  },
  {
   "cell_type": "code",
   "execution_count": 20,
   "id": "7ceb696e-7c3a-40d0-89e1-93fa1098426d",
   "metadata": {
    "slideshow": {
     "slide_type": "fragment"
    },
    "tags": []
   },
   "outputs": [
    {
     "name": "stdout",
     "output_type": "stream",
     "text": [
      "Wrench1:  DualQuaternion(Real: Quaternion(0.000, 0.000, 0.000, 0.000), Dual: Quaternion(0.000, 0.000, 0.000, 0.000))\n",
      "Wrench2:  DualQuaternion(Real: Quaternion(0.000, 0.000, 0.000, 0.000), Dual: Quaternion(0.000, 0.000, 0.000, 0.000))\n"
     ]
    }
   ],
   "source": [
    "pos1 = np.array([0,0,1])\n",
    "pos2 = np.array([0,0,0])\n",
    "Identity = Quaternion(1,0,0,0)\n",
    "x01 = DualQuaternion.fromQuatPos(Identity, pos1)\n",
    "x02 = DualQuaternion.fromQuatPos(Identity, pos2)\n",
    "\n",
    "x12 = x01.inverse()*x02\n",
    "\n",
    "wrench1 = np.array([0,0,0, 0,0,0])\n",
    "W1 = DualQuaternion.from6Vector(wrench1)\n",
    "W2 = x12*W1*x12.inverse()\n",
    "print(\"Wrench1: \", W1)\n",
    "print(\"Wrench2: \", W2)"
   ]
  },
  {
   "cell_type": "code",
   "execution_count": 47,
   "id": "2b306e7a-18d1-4957-b1cd-7cfd6a9de99e",
   "metadata": {
    "tags": []
   },
   "outputs": [
    {
     "name": "stdout",
     "output_type": "stream",
     "text": [
      "[[   1.000    0.000    0.000    0.000    0.000    0.000]\n",
      " [   0.000    1.000    0.000    0.000    0.000    0.000]\n",
      " [   0.000    0.000    1.000    0.000    0.000    0.000]\n",
      " [   0.000    1.000    0.000    1.000    0.000    0.000]\n",
      " [  -1.000    0.000    0.000    0.000    1.000    0.000]\n",
      " [   0.000    0.000    0.000    0.000    0.000    1.000]]\n",
      "[  10.000    0.000    0.000    0.000  -10.000    0.000]\n"
     ]
    }
   ],
   "source": [
    "# comparison to Matrix adjoint\n",
    "def T_inv(T):\n",
    "    \"\"\"\n",
    "    Calculate the inverse of a 4x4 transformation matrix.\n",
    "    \"\"\"\n",
    "    return np.linalg.inv(T)\n",
    "\n",
    "def getR(T):\n",
    "    \"\"\"\n",
    "    Extract the rotation matrix from the top-left 3x3 portion of a 4x4 transformation matrix.\n",
    "    \"\"\"\n",
    "    return T[:3, :3]\n",
    "\n",
    "def adj(T):\n",
    "    \"\"\"\n",
    "    Calculate the adjoint of a 4x4 transformation matrix.\n",
    "    \"\"\"\n",
    "    R = getR(T)\n",
    "    p = T[:3, 3]\n",
    "    p_skew = np.array([[0, -p[2], p[1]],\n",
    "                       [p[2], 0, -p[0]],\n",
    "                       [-p[1], p[0], 0]])\n",
    "    adjoint = np.zeros((6, 6))\n",
    "    adjoint[:3, :3] = R\n",
    "    adjoint[3:, 3:] = R\n",
    "    adjoint[3:, :3] = p_skew @ R\n",
    "    return adjoint\n",
    "\n",
    "# Test the functions with the provided matrices\n",
    "T01 = np.array([[1, 0, 0, 0],\n",
    "                [0, 1, 0, 0],\n",
    "                [0, 0, 1, 1],\n",
    "                [0, 0, 0, 1]])\n",
    "\n",
    "T02 = np.array([[1, 0, 0, 0],\n",
    "                [0, 1, 0, 0],\n",
    "                [0, 0, 1, 0],\n",
    "                [0, 0, 0, 1]])\n",
    "\n",
    "T12 = T_inv(T01)@T02\n",
    "wrench2 = adj(T12)@wrench1\n",
    "\n",
    "print(adj(T12))\n",
    "print(wrench2)"
   ]
  },
  {
   "cell_type": "code",
   "execution_count": null,
   "id": "fd17282e-9cfe-49cf-9dc5-24b557776ce6",
   "metadata": {},
   "outputs": [],
   "source": []
  },
  {
   "cell_type": "markdown",
   "id": "54771d46-b9ac-4816-846c-563f90fc7c9e",
   "metadata": {
    "slideshow": {
     "slide_type": "slide"
    },
    "tags": []
   },
   "source": [
    "<div style=\"font-family: 'Helvetica Neue', Arial, sans-serif;\">\n",
    "<h1 style=\"border-bottom: 2px solid #ddd; padding-bottom: 10px;\">Dual-Quaternions: Comparison to Transformation Matrices</h1>\n",
    "    \n",
    "<table border=\"1\" style=\"font-size: 24px;\">\n",
    "    <thead>\n",
    "        <tr>\n",
    "            <th style=\"padding: 10px 20px;\">Property</th>\n",
    "            <th style=\"padding: 10px 20px;\">Transformation Matrices</th>\n",
    "            <th style=\"padding: 10px 20px;\">Dual Quaternions</th>\n",
    "        </tr>\n",
    "    </thead>\n",
    "    <tbody>\n",
    "        <tr>\n",
    "            <td style=\"padding: 10px 20px;\">Information Content</td>\n",
    "            <td style=\"padding: 10px 20px;\">Orientation and Position</td>\n",
    "            <td style=\"padding: 10px 20px;\">Orientation, Rotation and Position</td>\n",
    "        </tr>\n",
    "        <tr>\n",
    "            <td style=\"padding: 10px 20px;\">Composition</td>\n",
    "            <td style=\"padding: 10px 20px;\">Matrix multiplication</td>\n",
    "            <td style=\"padding: 10px 20px;\">Dual-Quaternion multiplication</td>\n",
    "        </tr>\n",
    "        <tr>\n",
    "            <td style=\"padding: 10px 20px;\">Interpolation</td>\n",
    "            <td style=\"padding: 10px 20px;\">Not straightforward</td>\n",
    "            <td style=\"padding: 10px 20px;\">very easy (SCLERP and other methods can be directly applied)</td>\n",
    "        </tr>\n",
    "        <tr>\n",
    "            <td style=\"padding: 10px 20px;\">Memory</td>\n",
    "            <td style=\"padding: 10px 20px;\">16 values</td>\n",
    "            <td style=\"padding: 10px 20px;\">8 values</td>\n",
    "        </tr>\n",
    "        <tr>\n",
    "            <td style=\"padding: 10px 20px;\">Computational Efficiency</td>\n",
    "            <td style=\"padding: 10px 20px;\">More computationally intensive for certain operations</td>\n",
    "            <td style=\"padding: 10px 20px;\">Generally more efficient for composition and interpolation</td>\n",
    "        </tr>\n",
    "    </tbody>\n",
    "</table>\n",
    "\n",
    "</div>\n"
   ]
  },
  {
   "cell_type": "markdown",
   "id": "cd8dfa37-6f8a-4bb2-8157-429a13f48d61",
   "metadata": {
    "slideshow": {
     "slide_type": "slide"
    },
    "tags": []
   },
   "source": [
    "\n",
    "\n",
    "<h1 style=\"font-family: 'Helvetica Neue', Arial, sans-serif; border-bottom: 2px solid #ddd; padding-bottom: 10px;\">Screw Theory</h1>\n",
    "<div style=\"font-family: 'Helvetica Neue', Arial, sans-serif; display: flex; justify-content: space-between;\">\n",
    "\n",
    "<!-- Left column for text -->\n",
    "<div style=\"width: 48%;\">\n",
    "\n",
    "<p>\n",
    "Screw Theory is a more advanced alternative to the Denavit-Hartenberg Convention.\n",
    "</p>\n",
    "\n",
    "<h3>Key Concepts:</h3>\n",
    "<ul>\n",
    "    <li>Screw Axis $\\mathbf{s}$</li>\n",
    "    <li>Screw Motion around the screw axis $\\mathbf{s}$</li>\n",
    "    <li>Tranformations from Exponential Functions</li>\n",
    "    <li>Can handle revolute and prismatic joints without distinction</li>\n",
    "</ul>\n",
    "    \n",
    "</div>\n",
    "\n",
    "<!-- Right column for image -->\n",
    "<div style=\"width: 48%;\">\n",
    "    <img src=\"./data/screw.png\" alt=\"calibration scheme\" style=\"max-width: 700px; width: 100%; display: block; margin-left: auto; margin-right: auto;margin-top: 100px;\">\n",
    "    <p style=\"text-align: center; font-style: italic; margin-top: 10px;\">Screw Axis example.</p>\n",
    "</div>\n",
    "\n",
    "</div>"
   ]
  },
  {
   "cell_type": "markdown",
   "id": "6315288a-0ef7-4cc6-8d1a-0859c24d543a",
   "metadata": {
    "slideshow": {
     "slide_type": "slide"
    },
    "tags": []
   },
   "source": [
    "<div style=\"font-family: 'Helvetica Neue', Arial, sans-serif;\">\n",
    "\n",
    "<h1 style=\"border-bottom: 2px solid #ddd; padding-bottom: 10px;\">Screw Theory: The Screw Axis</h1>\n",
    "<p>\n",
    "The screw axis $\\mathbf{s} \\in \\mathbb{R}^6$ is defined from a rotation axis $\\mathbf{r}$ and a position $\\mathbf{p}$\n",
    "</p>\n",
    "\n",
    "<p>\n",
    "$$ \\mathbf{s} = (\\mathbf{r}, \\mathbf{p} \\times \\mathbf{r}) = (\\mathbf{r}, \\mathbf{m})$$\n",
    "Here, $\\mathbf{m} = \\mathbf{p} \\times \\mathbf{r}$ is called the moment of the line.\n",
    "</p>\n",
    "\n",
    "Note: as Wrenches or Twists, the screw axis can also be represented as <strong>pure dual quaternion</strong> $\\bar{\\underline{s}} = (0, \\mathbf{r}) + \\epsilon(0, \\mathbf{m})$\n",
    "\n",
    "\n",
    "\n",
    "</div>"
   ]
  },
  {
   "cell_type": "code",
   "execution_count": 21,
   "id": "f1c05369-e74a-4a20-82dd-74e978b69e49",
   "metadata": {
    "slideshow": {
     "slide_type": "fragment"
    },
    "tags": []
   },
   "outputs": [
    {
     "name": "stdout",
     "output_type": "stream",
     "text": [
      "screw axis:  DualQuaternion(Real: Quaternion(0.000, 0.000, 1.000, 0.000), Dual: Quaternion(0.000, -2.000, 0.000, 0.000))\n"
     ]
    }
   ],
   "source": [
    "#Example\n",
    "r = np.array([0,1,0])\n",
    "pos = np.array([0,0,2])\n",
    "\n",
    "\n",
    "s = DualQuaternion.screwAxis(*r, *pos)\n",
    "print(\"screw axis: \", s)"
   ]
  },
  {
   "cell_type": "code",
   "execution_count": null,
   "id": "96c15c55-877b-4f34-a616-76bebd395c2e",
   "metadata": {
    "tags": []
   },
   "outputs": [],
   "source": []
  },
  {
   "cell_type": "markdown",
   "id": "5d9f76e4-3cac-4f55-9ac9-9068b7183e68",
   "metadata": {
    "slideshow": {
     "slide_type": "slide"
    },
    "tags": []
   },
   "source": [
    "<div style=\"font-family: 'Helvetica Neue', Arial, sans-serif;\">\n",
    "\n",
    "<h1 style=\"border-bottom: 2px solid #ddd; padding-bottom: 10px;\">Screw Theory: Dual Quaternion Screw Transformation</h1>\n",
    "<p>\n",
    "similarly to the quaternion exponential, we can define a dual quaternion transformation $\\underline{\\xi}$ with the exponential funciton $e$.\n",
    "\n",
    "$$\n",
    "\\underline{\\xi} = e^{\\frac{\\underline{\\theta}}{2}\\bar{\\underline{s}}} = \\cos(\\frac{\\underline{\\theta}}{2}) + \\bar{\\underline{s}} \\sin(\\frac{\\underline{\\theta}}{2})\n",
    "$$\n",
    "\n",
    "with dual angle $\\underline{\\theta} = \\theta + \\epsilon d$ and dual vector $\\bar{\\underline{s}} = (0,\\mathbf{r}) + \\epsilon (0,\\mathbf{m}) $ which represents the screw axis.\n",
    "    \n",
    "<h3>Key Concepts:</h3>\n",
    "<ul>\n",
    "    <li>$\\theta$: Angle of rotation around screw axis</li>\n",
    "    <li>$d$: translation along screw axis ($d = 0$ for revolute joints)</li>\n",
    "</ul>\n",
    "    \n",
    "<h3> Relation of Exp and Log map and screw axis constructor</h3>\n",
    "<p>\n",
    "similarly to the quaternions, the relation ship of the screw axis constructor and exponential constructor is that  $ log(\\underline{\\xi}) = \\frac{\\underline{\\theta}}{2}\\bar{\\underline{s}}$.\n",
    "</p>\n",
    "\n",
    "\n",
    "</div>"
   ]
  },
  {
   "cell_type": "markdown",
   "id": "2f2b46b3-1400-4526-9695-901bb23ebe1d",
   "metadata": {
    "slideshow": {
     "slide_type": "fragment"
    },
    "tags": []
   },
   "source": [
    "<div style=\"font-family: 'Helvetica Neue', Arial, sans-serif;\">\n",
    "\n",
    "<h1 style=\"border-bottom: 2px solid #ddd; padding-bottom: 10px;\">Screw Theory: Dual Quaternion Screw Transformation Demo</h1>\n",
    "\n",
    "</div>"
   ]
  },
  {
   "cell_type": "code",
   "execution_count": 23,
   "id": "ab1ce248-60ba-472e-8eb5-10ec99b40630",
   "metadata": {
    "tags": []
   },
   "outputs": [
    {
     "data": {
      "application/vnd.jupyter.widget-view+json": {
       "model_id": "5abe611bf6c947659ee4961bd7d71af4",
       "version_major": 2,
       "version_minor": 0
      },
      "text/plain": [
       "AppLayout(children=(VBox(children=(Text(value='', description='screw', layout=Layout(width='70%')), Text(value…"
      ]
     },
     "execution_count": 23,
     "metadata": {},
     "output_type": "execute_result"
    }
   ],
   "source": [
    "fig, ax = create_3d_plot()\n",
    "quaternion_display = create_textbox(\"screw\")\n",
    "log_display = create_textbox(\"log\")\n",
    "angle_slider, azimuth_slider, elevation_slider = create_quaternion_sliders()\n",
    "x_slider, y_slider, z_slider = create_position_sliders()\n",
    "\n",
    "rotation_axis = create_quiver(ax, [0,0,0], [1,0,0], 1, 'grey')\n",
    "x_axis, y_axis, z_axis = draw_frame(ax, [0,0,0], np.eye(3))\n",
    "x_axis2, y_axis2, z_axis2 = draw_frame(ax, [0.3,.5,.5], np.eye(3))\n",
    "dq_frame = DualQuaternion.fromQuatPos(Quaternion(1,0,0,0), [0.3,.5,.5])\n",
    "\n",
    "rot_axis = ax.plot([-2, 2], [0,0], [0,0], \"--\", linewidth = 1, c = \"k\")\n",
    "moment = ax.plot([0,0], [0,0], [0,0], \"--\", linewidth = 1, c = \"k\")\n",
    "\n",
    "# Update function for the sliders\n",
    "def update_plot(change):\n",
    "\n",
    "    global rotation_axis, x_axis, y_axis, z_axis, x_axis2, y_axis2, z_axis2, rot_axis, moment\n",
    "    \n",
    "    rotation_axis.remove()\n",
    "    x_axis.remove()\n",
    "    y_axis.remove()\n",
    "    z_axis.remove()\n",
    "    x_axis2.remove()\n",
    "    y_axis2.remove()\n",
    "    z_axis2.remove()\n",
    "    rot_axis[0].remove()\n",
    "    moment[0].remove()\n",
    "    \n",
    "    direction = spherical_coordinates(azimuth_slider.value, elevation_slider.value)\n",
    "    \n",
    "    # set position vector\n",
    "    pos = [x_slider.value, y_slider.value, z_slider.value]\n",
    "    \n",
    "    screw_axis = DualQuaternion.screwAxis(*direction, *pos)\n",
    "    \n",
    "    theta = angle_slider.value\n",
    "    d = 0*angle_slider.value\n",
    "   \n",
    "    exponent = DualQuaternion(screw_axis.real*theta, screw_axis.dual*theta + screw_axis.real*d)\n",
    "    dq = DualQuaternion.exp(0.5*exponent)\n",
    "    \n",
    "    dq2 = dq*dq_frame\n",
    "    \n",
    "    # update displays\n",
    "    quaternion_display.value = str(screw_axis)\n",
    "    log_display.value = str(dq.log())\n",
    "    \n",
    "    # update the drawn vectors and the arc\n",
    "    rotation_axis = create_quiver(ax, pos, direction,1, 'grey')\n",
    "    \n",
    "    rot_axis = ax.plot([pos[0]-direction[0]*2, pos[0]+direction[0]*2], [pos[1]-direction[1]*2, pos[1]+direction[1]*2], [pos[2]-direction[2]*2, pos[2]+direction[2]*2], \"--\", linewidth = 1, c = \"black\")\n",
    "    moment = ax.plot([0, pos[0]], [0, pos[1]], [0, pos[2]], \"--\", linewidth = 1, c = \"k\")\n",
    "    \n",
    "    x_axis, y_axis, z_axis = draw_frame(ax, dq.getPosition().flatten(), dq.real.asRotationMatrix())\n",
    "    x_axis2, y_axis2, z_axis2 = draw_frame(ax, dq2.getPosition().flatten(), dq2.real.asRotationMatrix())\n",
    "    \n",
    "    fig.canvas.draw()\n",
    "    fig.canvas.flush_events()\n",
    "\n",
    "\n",
    "angle_slider.observe(update_plot, names = 'value')\n",
    "azimuth_slider.observe(update_plot, names='value')\n",
    "elevation_slider.observe(update_plot, names='value')\n",
    "x_slider.observe(update_plot, names='value')\n",
    "y_slider.observe(update_plot, names='value')\n",
    "z_slider.observe(update_plot, names='value')\n",
    "\n",
    "widgets.AppLayout(\n",
    "    center=fig.canvas,\n",
    "    footer=widgets.VBox([quaternion_display, log_display, angle_slider, azimuth_slider, elevation_slider, x_slider, y_slider, z_slider]),\n",
    "    pane_heights=[0, 2, 1])"
   ]
  },
  {
   "cell_type": "markdown",
   "id": "ab827ab6-186f-43da-9560-55f1b4fa2d7b",
   "metadata": {
    "slideshow": {
     "slide_type": "slide"
    },
    "tags": []
   },
   "source": [
    "<div style=\"font-family: 'Helvetica Neue', Arial, sans-serif;\">\n",
    "<h1 style=\"border-bottom: 2px solid #ddd; padding-bottom: 10px;\">Screw Theory: Comparison to Denavit Hartenberg Convention</h1>\n",
    "    \n",
    "<table border=\"1\" style=\"font-size: 24px;\">\n",
    "    <thead>\n",
    "        <tr>\n",
    "            <th style=\"padding: 10px 20px;\">Property</th>\n",
    "            <th style=\"padding: 10px 20px;\">Denavit Hartenbergs</th>\n",
    "            <th style=\"padding: 10px 20px;\">Screw Theory</th>\n",
    "        </tr>\n",
    "    </thead>\n",
    "    <tbody>\n",
    "            <tr>\n",
    "            <td style=\"padding: 10px 20px;\">Representation</td>\n",
    "            <td style=\"padding: 10px 20px;\">minimal Representation</td>\n",
    "            <td style=\"padding: 10px 20px;\">non-minimal Representation</td>\n",
    "        </tr>\n",
    "        <tr>\n",
    "            <td style=\"padding: 10px 20px;\">Usage</td>\n",
    "            <td style=\"padding: 10px 20px;\">very restrictive due to minimal Representation</td>\n",
    "            <td style=\"padding: 10px 20px;\">very easy and Flexible usage</td>\n",
    "        </tr>\n",
    "        <tr>\n",
    "            <td style=\"padding: 10px 20px;\">Rotation / Translation</td>\n",
    "            <td style=\"padding: 10px 20px;\">distinction between revolute / prismatic joints</td>\n",
    "            <td style=\"padding: 10px 20px;\">unification of revolute / pristmatic joints</td>\n",
    "        </tr>\n",
    "        <tr>\n",
    "            <td style=\"padding: 10px 20px;\">Widespread usage</td>\n",
    "            <td style=\"padding: 10px 20px;\">well known by all Roboticists</td>\n",
    "            <td style=\"padding: 10px 20px;\">not so widespread</td>\n",
    "        </tr>\n",
    "        <tr>\n",
    "            <td style=\"padding: 10px 20px;\">Efficiency</td>\n",
    "            <td style=\"padding: 10px 20px;\">not very elegant nor efficient</td>\n",
    "            <td style=\"padding: 10px 20px;\">Compact, efficient and very elegant</td>\n",
    "        </tr>\n",
    "    </tbody>\n",
    "</table>\n",
    "\n",
    "</div>"
   ]
  },
  {
   "cell_type": "markdown",
   "id": "dc022e37-4319-43c3-8fcb-eb786d361d1d",
   "metadata": {
    "slideshow": {
     "slide_type": "slide"
    },
    "tags": []
   },
   "source": [
    "\n",
    "<h1 style=\"font-family: 'Helvetica Neue', Arial, sans-serif; border-bottom: 2px solid #ddd; padding-bottom: 10px;\">Dual Quaternion Forward Kinematics for MAiRA:</h1>\n",
    "<div style=\"font-family: 'Helvetica Neue', Arial, sans-serif; display: flex; justify-content: space-between;\">\n",
    "\n",
    "<!-- Left column for text -->\n",
    "<div style=\"width: 58%;\">\n",
    "<p>\n",
    "first we have to get the geometric information of the robot we want to model:\n",
    "</p>\n",
    "\n",
    "<table style=\"width: 100%; font-size: 24px; height: auto;\">\n",
    "    <thead>\n",
    "      <tr>\n",
    "        <th style=\"text-align: center;\">Link</th>\n",
    "        <th style=\"text-align: center;\">alpha [rad]</th>\n",
    "        <th style=\"text-align: center;\">a [m]</th>\n",
    "        <th style=\"text-align: center;\">d [m]</th>\n",
    "        <th style=\"text-align: center;\">theta [rad]</th>\n",
    "      </tr>\n",
    "    </thead>\n",
    "    <tbody>\n",
    "       <tr>\n",
    "        <td style=\"text-align: center;\">1</td>\n",
    "        <td style=\"text-align: center;\">$-\\frac{\\pi}{2}$</td>\n",
    "        <td style=\"text-align: center;\">$0$</td>\n",
    "        <td style=\"text-align: center;\">$0.438$</td>\n",
    "        <td style=\"text-align: center;\">$\\theta_1$</td>\n",
    "      </tr>\n",
    "      <tr>\n",
    "        <td style=\"text-align: center;\">2</td>\n",
    "        <td style=\"text-align: center;\">$\\frac{\\pi}{2}$</td>\n",
    "        <td style=\"text-align: center;\">$0$</td>\n",
    "        <td style=\"text-align: center;\">$0$</td>\n",
    "        <td style=\"text-align: center;\">$\\theta_2$</td>\n",
    "      </tr>\n",
    "      <tr>\n",
    "        <td style=\"text-align: center;\">3</td>\n",
    "        <td style=\"text-align: center;\">$-\\frac{\\pi}{2}$</td>\n",
    "        <td style=\"text-align: center;\">$0$</td>\n",
    "        <td style=\"text-align: center;\">$0.7$</td>\n",
    "        <td style=\"text-align: center;\">$\\theta_3$</td>\n",
    "      </tr>\n",
    "      <tr>\n",
    "        <td style=\"text-align: center;\">4</td>\n",
    "        <td style=\"text-align: center;\">$\\frac{\\pi}{2}$</td>\n",
    "        <td style=\"text-align: center;\">$0$</td>\n",
    "        <td style=\"text-align: center;\">$0$</td>\n",
    "        <td style=\"text-align: center;\">$\\theta_4$</td>\n",
    "      </tr>\n",
    "      <tr>\n",
    "        <td style=\"text-align: center;\">5</td>\n",
    "        <td style=\"text-align: center;\">$-\\frac{\\pi}{2}$</td>\n",
    "        <td style=\"text-align: center;\">$0$</td>\n",
    "        <td style=\"text-align: center;\">$0.7$</td>\n",
    "        <td style=\"text-align: center;\">$\\theta_5$</td>\n",
    "      </tr>\n",
    "      <tr>\n",
    "        <td style=\"text-align: center;\">6</td>\n",
    "        <td style=\"text-align: center;\">$\\frac{\\pi}{2}$</td>\n",
    "        <td style=\"text-align: center;\">$0$</td>\n",
    "        <td style=\"text-align: center;\">$0$</td>\n",
    "        <td style=\"text-align: center;\">$\\theta_6$</td>\n",
    "      </tr>\n",
    "      <tr>\n",
    "        <td style=\"text-align: center;\">7</td>\n",
    "        <td style=\"text-align: center;\">$0$</td>\n",
    "        <td style=\"text-align: center;\">$0$</td>\n",
    "        <td style=\"text-align: center;\">$0.115$</td>\n",
    "        <td style=\"text-align: center;\">$\\theta_7$</td>\n",
    "      </tr>\n",
    "    </tbody>\n",
    "  </table>\n",
    "<p style=\"text-align: center; font-style: italic; font-size: 18px; margin-top: 10px;\">Table 1: DH Parameters for MAiRA.</p>\n",
    " <table style=\"width: 100%; font-size: 24px; height: auto;\">\n",
    "    <thead>\n",
    "      <tr>\n",
    "        <th style=\"text-align: center;\">Link</th>\n",
    "        <th style=\"text-align: center;\">rotation axis</th>\n",
    "        <th style=\"text-align: center;\">position</th>\n",
    "      </tr>\n",
    "    </thead>\n",
    "    <tbody>\n",
    "      <tr>\n",
    "        <td style=\"text-align: center;\">1</td>\n",
    "        <td style=\"text-align: center;\">$(0,0,1)$</td>\n",
    "        <td style=\"text-align: center;\">$(0,0,0)$</td>\n",
    "      </tr>\n",
    "      <tr>\n",
    "        <td style=\"text-align: center;\">2</td>\n",
    "        <td style=\"text-align: center;\">$(0,1,0)$</td>\n",
    "        <td style=\"text-align: center;\">$(0,0,0.438)$</td>\n",
    "      </tr>\n",
    "      <tr>\n",
    "        <td style=\"text-align: center;\">3</td>\n",
    "        <td style=\"text-align: center;\">$(0,0,1)$</td>\n",
    "        <td style=\"text-align: center;\">$(0,0,0.438)$</td>\n",
    "      </tr>\n",
    "      <tr>\n",
    "        <td style=\"text-align: center;\">4</td>\n",
    "        <td style=\"text-align: center;\">$(0,1,0)$</td>\n",
    "        <td style=\"text-align: center;\">$(0,0,1.138)$</td>\n",
    "      </tr>\n",
    "              <tr>\n",
    "        <td style=\"text-align: center;\">5</td>\n",
    "        <td style=\"text-align: center;\">$(0,0,1)$</td>\n",
    "        <td style=\"text-align: center;\">$(0,0,1.138)$</td>\n",
    "      </tr>\n",
    "      <tr>\n",
    "        <td style=\"text-align: center;\">6</td>\n",
    "        <td style=\"text-align: center;\">$(0,1,0)$</td>\n",
    "        <td style=\"text-align: center;\">$(0,0,1.838)$</td>\n",
    "      </tr>\n",
    "      <tr>\n",
    "        <td style=\"text-align: center;\">7</td>\n",
    "        <td style=\"text-align: center;\">$(0,0,1)$</td>\n",
    "        <td style=\"text-align: center;\">$(0,0,1.838)$</td>\n",
    "      </tr>\n",
    "    </tbody>\n",
    "  </table>\n",
    "<p style=\"text-align: center; font-style: italic; font-size: 18px; margin-top: 10px;\">Table 2: Screw Parameters for MAiRA, defined in the base frame.</p>\n",
    "<p>\n",
    "Note: $M$ is defined as a DualQuaternion transformation with orientation of $q_r = (1,0,0,0)$ and position of $\\bar{t} = (0,0,0,1.953)$.\n",
    "</p>\n",
    "</div>\n",
    "\n",
    "<!-- Right column for image -->\n",
    "<div style=\"width: 38%;\">\n",
    "    <img src=\"./data/maira_screw_axis.png\" alt=\"calibration scheme\" style=\"max-width: 600px; width: 100%; display: block; margin-left: auto; margin-right: auto;margin-top: 10px;\">\n",
    "    <p style=\"text-align: center; font-style: italic; margin-top: 10px;\">MAiRA robot.</p>\n",
    "</div>\n",
    "\n",
    "</div>"
   ]
  },
  {
   "cell_type": "markdown",
   "id": "84e14c67-fd08-4355-97b4-c2a8039932cd",
   "metadata": {
    "slideshow": {
     "slide_type": "slide"
    },
    "tags": []
   },
   "source": [
    "<div style=\"font-family: 'Helvetica Neue', Arial, sans-serif;\">\n",
    "\n",
    "<h1 style=\"border-bottom: 2px solid #ddd; padding-bottom: 10px;\">Dual Quaternion Forward Kinematics for MAiRA:</h1>\n",
    "\n",
    "<table style=\"width: 100%; font-size: 20px; height: auto;\">\n",
    "    <thead>\n",
    "      <tr>\n",
    "        <th style=\"text-align: center;\">Link</th>\n",
    "        <th style=\"text-align: center;\">alpha [rad]</th>\n",
    "        <th style=\"text-align: center;\">a [m]</th>\n",
    "        <th style=\"text-align: center;\">d [m]</th>\n",
    "        <th style=\"text-align: center;\">theta [rad]</th>\n",
    "        <th style=\"text-align: center;\">rotation axis</th>\n",
    "        <th style=\"text-align: center;\">position</th>\n",
    "      </tr>\n",
    "    </thead>\n",
    "    <tbody>\n",
    "       <tr>\n",
    "        <td style=\"text-align: center;\">1</td>\n",
    "        <td style=\"text-align: center;\">$-\\frac{\\pi}{2}$</td>\n",
    "        <td style=\"text-align: center;\">$0$</td>\n",
    "        <td style=\"text-align: center;\">$0.438$</td>\n",
    "        <td style=\"text-align: center;\">$\\theta_1$</td>\n",
    "        <td style=\"text-align: center;\">$(0,0,1)$</td>\n",
    "        <td style=\"text-align: center;\">$(0,0,0)$</td>\n",
    "      </tr>\n",
    "      <tr>\n",
    "        <td style=\"text-align: center;\">2</td>\n",
    "        <td style=\"text-align: center;\">$\\frac{\\pi}{2}$</td>\n",
    "        <td style=\"text-align: center;\">$0$</td>\n",
    "        <td style=\"text-align: center;\">$0$</td>\n",
    "        <td style=\"text-align: center;\">$\\theta_2$</td>\n",
    "        <td style=\"text-align: center;\">$(0,1,0)$</td>\n",
    "        <td style=\"text-align: center;\">$(0,0,0.438)$</td>\n",
    "      </tr>\n",
    "      <tr>\n",
    "        <td style=\"text-align: center;\">3</td>\n",
    "        <td style=\"text-align: center;\">$-\\frac{\\pi}{2}$</td>\n",
    "        <td style=\"text-align: center;\">$0$</td>\n",
    "        <td style=\"text-align: center;\">$0.7$</td>\n",
    "        <td style=\"text-align: center;\">$\\theta_3$</td>\n",
    "        <td style=\"text-align: center;\">$(0,0,1)$</td>\n",
    "        <td style=\"text-align: center;\">$(0,0,0.438)$</td>\n",
    "      </tr>\n",
    "      <tr>\n",
    "        <td style=\"text-align: center;\">4</td>\n",
    "        <td style=\"text-align: center;\">$\\frac{\\pi}{2}$</td>\n",
    "        <td style=\"text-align: center;\">$0$</td>\n",
    "        <td style=\"text-align: center;\">$0$</td>\n",
    "        <td style=\"text-align: center;\">$\\theta_4$</td>\n",
    "        <td style=\"text-align: center;\">$(0,1,0)$</td>\n",
    "        <td style=\"text-align: center;\">$(0,0,1.138)$</td>\n",
    "      </tr>\n",
    "      <tr>\n",
    "        <td style=\"text-align: center;\">5</td>\n",
    "        <td style=\"text-align: center;\">$-\\frac{\\pi}{2}$</td>\n",
    "        <td style=\"text-align: center;\">$0$</td>\n",
    "        <td style=\"text-align: center;\">$0.7$</td>\n",
    "        <td style=\"text-align: center;\">$\\theta_5$</td>\n",
    "        <td style=\"text-align: center;\">$(0,0,1)$</td>\n",
    "        <td style=\"text-align: center;\">$(0,0,1.138)$</td>\n",
    "      </tr>\n",
    "      <tr>\n",
    "        <td style=\"text-align: center;\">6</td>\n",
    "        <td style=\"text-align: center;\">$\\frac{\\pi}{2}$</td>\n",
    "        <td style=\"text-align: center;\">$0$</td>\n",
    "        <td style=\"text-align: center;\">$0$</td>\n",
    "        <td style=\"text-align: center;\">$\\theta_6$</td>\n",
    "        <td style=\"text-align: center;\">$(0,1,0)$</td>\n",
    "        <td style=\"text-align: center;\">$(0,0,1.838)$</td>\n",
    "      </tr>\n",
    "      <tr>\n",
    "        <td style=\"text-align: center;\">7</td>\n",
    "        <td style=\"text-align: center;\">$0$</td>\n",
    "        <td style=\"text-align: center;\">$0$</td>\n",
    "        <td style=\"text-align: center;\">$0.115$</td>\n",
    "        <td style=\"text-align: center;\">$\\theta_7$</td>\n",
    "        <td style=\"text-align: center;\">$(0,0,1)$</td>\n",
    "        <td style=\"text-align: center;\">$(0,0,1.838)$</td>\n",
    "      </tr>\n",
    "    </tbody>\n",
    "  </table>\n",
    "<p style=\"text-align: center; font-style: italic; font-size: 18px; margin-top: 10px;\">Table 3: DH and Screw Parameters for MAiRA.</p>\n",
    "\n",
    "</div>"
   ]
  },
  {
   "cell_type": "code",
   "execution_count": 23,
   "id": "77642eb9-5d36-4ca8-a31e-3cd4d7e30ba0",
   "metadata": {
    "slideshow": {
     "slide_type": "fragment"
    },
    "tags": []
   },
   "outputs": [],
   "source": [
    "# define the rotation axis as in Table 3\n",
    "r1 = [0,0,1]\n",
    "r2 = [0,1,0]\n",
    "r3 = [0,0,1]\n",
    "r4 = [0,1,0]\n",
    "r5 = [0,0,1]\n",
    "r6 = [0,1,0]\n",
    "r7 = [0,0,1]\n",
    "\n",
    "# use DH params d from Table 3\n",
    "d1 = 0.438\n",
    "d3 = 0.7\n",
    "d5 = 0.7\n",
    "d7 = 0.115\n",
    "\n",
    "# define the position vector of rotation axis as in Table 3\n",
    "p1 = [0,0,0]\n",
    "p2 = [0,0,d1]\n",
    "p3 = [0,0,d1]\n",
    "p4 = [0,0,d1+d3]\n",
    "p5 = [0,0,d1+d3]\n",
    "p6 = [0,0,d1+d3+d5]\n",
    "p7 = [0,0,d1+d3+d5]\n",
    "\n",
    "M = DualQuaternion.fromQuatPos(Quaternion(1,0,0,0), [0, 0, d1 + d3 + d5 + d7])"
   ]
  },
  {
   "cell_type": "markdown",
   "id": "00662984-0f26-4389-87eb-1b0a1466c686",
   "metadata": {
    "slideshow": {
     "slide_type": "slide"
    },
    "tags": []
   },
   "source": [
    "<div style=\"font-family: 'Helvetica Neue', Arial, sans-serif;\">\n",
    "\n",
    "<h1 style=\"border-bottom: 2px solid #ddd; padding-bottom: 10px;\">Dual Quaternion Forward Kinematics for MAiRA:</h1>\n",
    "<p>\n",
    "with the position vectors and rotation axis we can now construct the screw axis in dualquaternion form.\n",
    "\n",
    "Recall: $ \\bar{\\underline{s}} = (0, \\mathbf{r}) + \\epsilon (0, \\mathbf{m}) = (0, \\mathbf{r}) + \\epsilon (0, \\mathbf{p} \\times \\mathbf{r}) $.\n",
    "</div>"
   ]
  },
  {
   "cell_type": "code",
   "execution_count": null,
   "id": "548f2d34-891e-4b78-adbd-b88ef85eb3ac",
   "metadata": {},
   "outputs": [],
   "source": [
    "s1 = DualQuaternion.screwAxis(*r1, *p1)\n",
    "s2 = DualQuaternion.screwAxis(*r2, *p2)\n",
    "s3 = DualQuaternion.screwAxis(*r3, *p3)\n",
    "s4 = DualQuaternion.screwAxis(*r4, *p4)\n",
    "s5 = DualQuaternion.screwAxis(*r5, *p5)\n",
    "s6 = DualQuaternion.screwAxis(*r6, *p6)\n",
    "s7 = DualQuaternion.screwAxis(*r7, *p7)\n",
    "\n",
    "print(s1)"
   ]
  },
  {
   "cell_type": "markdown",
   "id": "63525632-90f5-476a-b9e5-109b763a79bf",
   "metadata": {},
   "source": [
    "<div style=\"font-family: 'Helvetica Neue', Arial, sans-serif;\">\n",
    "\n",
    "<p>\n",
    "with the screws $\\bar{\\underline{s}}_i$ and the angle $\\theta_i$ we can now define the dual quaternion transformations $\\underline{\\xi}_i$ which correspond to motion around each robotic joint\n",
    "\n",
    "$$\n",
    "\\underline{\\xi}_i = e^{\\frac{\\underline{\\theta}_i}{2}\\bar{\\underline{s}}_i} \n",
    "$$\n",
    "\n",
    "with these transformations we can then define the transformation between the baseframe and the TCP $ \\underline{\\xi}_{TCP}^0 $\n",
    "\n",
    "$$ \n",
    "\\underline{\\xi}_{TCP}^0 = (\\Pi_{i = 0}^{n = 7} \\underline{\\xi}_i) M\n",
    "$$\n",
    "</p>\n",
    "</div>"
   ]
  },
  {
   "cell_type": "code",
   "execution_count": 52,
   "id": "88289753-8ad4-4e74-9513-531964026082",
   "metadata": {
    "slideshow": {
     "slide_type": "fragment"
    },
    "tags": []
   },
   "outputs": [
    {
     "name": "stdout",
     "output_type": "stream",
     "text": [
      "DualQuaternion(Real: Quaternion(-0.701, -0.000, 0.658, 0.275), Dual: Quaternion(-0.506, -0.106, -0.435, -0.249))\n",
      "[[  -0.017    0.386   -0.922    0.060]\n",
      " [  -0.386    0.849    0.362    1.218]\n",
      " [   0.922    0.362    0.134    0.768]\n",
      " [   0.000    0.000    0.000    1.000]]\n"
     ]
    }
   ],
   "source": [
    "def forward_kinematics(theta):\n",
    "    x1 = DualQuaternion.exp(0.5*theta[0]*s1)\n",
    "    x2 = DualQuaternion.exp(0.5*theta[1]*s2)\n",
    "    x3 = DualQuaternion.exp(0.5*theta[2]*s3)\n",
    "    x4 = DualQuaternion.exp(0.5*theta[3]*s4)\n",
    "    x5 = DualQuaternion.exp(0.5*theta[4]*s5)\n",
    "    x6 = DualQuaternion.exp(0.5*theta[5]*s6)\n",
    "    x7 = DualQuaternion.exp(0.5*theta[6]*s7)\n",
    "    \n",
    "    return x1*x2*x3*x4*x5*x6*x7*M\n",
    "\n",
    "\n",
    "theta = np.array([1,1,1,1,1,1,1])\n",
    "print(forward_kinematics(theta))\n",
    "print(forward_kinematics(theta).asTransformation())"
   ]
  },
  {
   "cell_type": "markdown",
   "id": "80431a36-3d47-4ac4-a9a1-60fe1c1a35f0",
   "metadata": {
    "slideshow": {
     "slide_type": "fragment"
    },
    "tags": []
   },
   "source": [
    "<div style=\"font-family: 'Helvetica Neue', Arial, sans-serif;\">\n",
    "\n",
    "<h1 style=\"border-bottom: 2px solid #ddd; padding-bottom: 10px;\">Dual Quaternion Forward Kinematics for MAiRA: Showcase</h1>\n",
    "\n",
    "</div>"
   ]
  },
  {
   "cell_type": "code",
   "execution_count": 25,
   "id": "21e30dd4-21af-4cca-aff6-a0f79060a202",
   "metadata": {
    "tags": []
   },
   "outputs": [
    {
     "data": {
      "text/html": [
       "\n",
       "                <div style=\"display: flex; justify-content: center; align-items: center; height: 100%;\">\n",
       "                    <iframe src=\"http://localhost:52002/?53002\" width=\"1440\" height=\"810\" style=\"border: none;\"></iframe>\n",
       "                </div>\n",
       "                "
      ],
      "text/plain": [
       "<IPython.core.display.HTML object>"
      ]
     },
     "metadata": {},
     "output_type": "display_data"
    },
    {
     "data": {
      "application/vnd.jupyter.widget-view+json": {
       "model_id": "5549655b7a1d49c3b6d3a9f79f05ef13",
       "version_major": 2,
       "version_minor": 0
      },
      "text/plain": [
       "interactive(children=(FloatSlider(value=0.0, description='joint angle 1', layout=Layout(width='80%'), max=3.14…"
      ]
     },
     "metadata": {},
     "output_type": "display_data"
    }
   ],
   "source": [
    "# add function to update the model and the 'real' robot\n",
    "def update_robot(q1, q2, q3, q4, q5, q6, q7):\n",
    "    \n",
    "    joint_angles = np.array([q1, q2, q3, q4, q5, q6, q7])\n",
    "    \n",
    "    maira_real.q = joint_angles\n",
    "    \n",
    "    T_ee_model.T = forward_kinematics(joint_angles).asTransformation()\n",
    "    T_ee_real.T = maira_real.fkine(maira_real.q)\n",
    "    \n",
    "    env.step()\n",
    "\n",
    "# Make and instance of the Swift simulator and open it\n",
    "env = Swift()\n",
    "env.launch(realtime=False, browser = \"notebook\")\n",
    "\n",
    "# Create a MAiRA model one for the 'real' robot\n",
    "maira_real = rtb.models.URDF.Maira7Uncal()\n",
    "\n",
    "# For each robot show the TCP position as well\n",
    "T_ee_model = sg.Axes(0.15, pose = forward_kinematics(maira_real.q).asTransformation())\n",
    "T_ee_real = sg.Axes(0.15, pose = maira_real.fkine(maira_real.q))\n",
    "\n",
    "# Add model Robot to the environment\n",
    "env.add(maira_real)\n",
    "env.add(T_ee_model)\n",
    "env.add(T_ee_real)\n",
    "\n",
    "# display sliders to make the robot move\n",
    "show_sliders(update_robot)"
   ]
  },
  {
   "cell_type": "code",
   "execution_count": 26,
   "id": "130be89d-f6d0-477a-8cad-1725b9a58cfe",
   "metadata": {
    "tags": []
   },
   "outputs": [
    {
     "ename": "AttributeError",
     "evalue": "'Axes' object has no attribute 'name'",
     "output_type": "error",
     "traceback": [
      "\u001b[1;31m---------------------------------------------------------------------------\u001b[0m",
      "\u001b[1;31mAttributeError\u001b[0m                            Traceback (most recent call last)",
      "File \u001b[1;32m~\\anaconda3\\Lib\\site-packages\\IPython\\core\\formatters.py:708\u001b[0m, in \u001b[0;36mPlainTextFormatter.__call__\u001b[1;34m(self, obj)\u001b[0m\n\u001b[0;32m    701\u001b[0m stream \u001b[38;5;241m=\u001b[39m StringIO()\n\u001b[0;32m    702\u001b[0m printer \u001b[38;5;241m=\u001b[39m pretty\u001b[38;5;241m.\u001b[39mRepresentationPrinter(stream, \u001b[38;5;28mself\u001b[39m\u001b[38;5;241m.\u001b[39mverbose,\n\u001b[0;32m    703\u001b[0m     \u001b[38;5;28mself\u001b[39m\u001b[38;5;241m.\u001b[39mmax_width, \u001b[38;5;28mself\u001b[39m\u001b[38;5;241m.\u001b[39mnewline,\n\u001b[0;32m    704\u001b[0m     max_seq_length\u001b[38;5;241m=\u001b[39m\u001b[38;5;28mself\u001b[39m\u001b[38;5;241m.\u001b[39mmax_seq_length,\n\u001b[0;32m    705\u001b[0m     singleton_pprinters\u001b[38;5;241m=\u001b[39m\u001b[38;5;28mself\u001b[39m\u001b[38;5;241m.\u001b[39msingleton_printers,\n\u001b[0;32m    706\u001b[0m     type_pprinters\u001b[38;5;241m=\u001b[39m\u001b[38;5;28mself\u001b[39m\u001b[38;5;241m.\u001b[39mtype_printers,\n\u001b[0;32m    707\u001b[0m     deferred_pprinters\u001b[38;5;241m=\u001b[39m\u001b[38;5;28mself\u001b[39m\u001b[38;5;241m.\u001b[39mdeferred_printers)\n\u001b[1;32m--> 708\u001b[0m printer\u001b[38;5;241m.\u001b[39mpretty(obj)\n\u001b[0;32m    709\u001b[0m printer\u001b[38;5;241m.\u001b[39mflush()\n\u001b[0;32m    710\u001b[0m \u001b[38;5;28;01mreturn\u001b[39;00m stream\u001b[38;5;241m.\u001b[39mgetvalue()\n",
      "File \u001b[1;32m~\\anaconda3\\Lib\\site-packages\\IPython\\lib\\pretty.py:393\u001b[0m, in \u001b[0;36mRepresentationPrinter.pretty\u001b[1;34m(self, obj)\u001b[0m\n\u001b[0;32m    390\u001b[0m \u001b[38;5;28;01mfor\u001b[39;00m \u001b[38;5;28mcls\u001b[39m \u001b[38;5;129;01min\u001b[39;00m _get_mro(obj_class):\n\u001b[0;32m    391\u001b[0m     \u001b[38;5;28;01mif\u001b[39;00m \u001b[38;5;28mcls\u001b[39m \u001b[38;5;129;01min\u001b[39;00m \u001b[38;5;28mself\u001b[39m\u001b[38;5;241m.\u001b[39mtype_pprinters:\n\u001b[0;32m    392\u001b[0m         \u001b[38;5;66;03m# printer registered in self.type_pprinters\u001b[39;00m\n\u001b[1;32m--> 393\u001b[0m         \u001b[38;5;28;01mreturn\u001b[39;00m \u001b[38;5;28mself\u001b[39m\u001b[38;5;241m.\u001b[39mtype_pprinters[\u001b[38;5;28mcls\u001b[39m](obj, \u001b[38;5;28mself\u001b[39m, cycle)\n\u001b[0;32m    394\u001b[0m     \u001b[38;5;28;01melse\u001b[39;00m:\n\u001b[0;32m    395\u001b[0m         \u001b[38;5;66;03m# deferred printer\u001b[39;00m\n\u001b[0;32m    396\u001b[0m         printer \u001b[38;5;241m=\u001b[39m \u001b[38;5;28mself\u001b[39m\u001b[38;5;241m.\u001b[39m_in_deferred_types(\u001b[38;5;28mcls\u001b[39m)\n",
      "File \u001b[1;32m~\\anaconda3\\Lib\\site-packages\\IPython\\lib\\pretty.py:778\u001b[0m, in \u001b[0;36m_repr_pprint\u001b[1;34m(obj, p, cycle)\u001b[0m\n\u001b[0;32m    776\u001b[0m \u001b[38;5;250m\u001b[39m\u001b[38;5;124;03m\"\"\"A pprint that just redirects to the normal repr function.\"\"\"\u001b[39;00m\n\u001b[0;32m    777\u001b[0m \u001b[38;5;66;03m# Find newlines and replace them with p.break_()\u001b[39;00m\n\u001b[1;32m--> 778\u001b[0m output \u001b[38;5;241m=\u001b[39m \u001b[38;5;28mrepr\u001b[39m(obj)\n\u001b[0;32m    779\u001b[0m lines \u001b[38;5;241m=\u001b[39m output\u001b[38;5;241m.\u001b[39msplitlines()\n\u001b[0;32m    780\u001b[0m \u001b[38;5;28;01mwith\u001b[39;00m p\u001b[38;5;241m.\u001b[39mgroup():\n",
      "File \u001b[1;32m~\\anaconda3\\Lib\\site-packages\\swift\\Swift.py:111\u001b[0m, in \u001b[0;36mSwift.__repr__\u001b[1;34m(self)\u001b[0m\n\u001b[0;32m    108\u001b[0m s \u001b[38;5;241m=\u001b[39m \u001b[38;5;124mf\u001b[39m\u001b[38;5;124m\"\u001b[39m\u001b[38;5;124mSwift backend, t = \u001b[39m\u001b[38;5;132;01m{\u001b[39;00m\u001b[38;5;28mself\u001b[39m\u001b[38;5;241m.\u001b[39msim_time\u001b[38;5;132;01m}\u001b[39;00m\u001b[38;5;124m, scene:\u001b[39m\u001b[38;5;124m\"\u001b[39m\n\u001b[0;32m    110\u001b[0m \u001b[38;5;28;01mfor\u001b[39;00m ob \u001b[38;5;129;01min\u001b[39;00m \u001b[38;5;28mself\u001b[39m\u001b[38;5;241m.\u001b[39mswift_objects:\n\u001b[1;32m--> 111\u001b[0m     s \u001b[38;5;241m+\u001b[39m\u001b[38;5;241m=\u001b[39m \u001b[38;5;124mf\u001b[39m\u001b[38;5;124m\"\u001b[39m\u001b[38;5;130;01m\\n\u001b[39;00m\u001b[38;5;124m  \u001b[39m\u001b[38;5;132;01m{\u001b[39;00mob\u001b[38;5;241m.\u001b[39mname\u001b[38;5;132;01m}\u001b[39;00m\u001b[38;5;124m\"\u001b[39m\n\u001b[0;32m    112\u001b[0m \u001b[38;5;28;01mreturn\u001b[39;00m s\n",
      "\u001b[1;31mAttributeError\u001b[0m: 'Axes' object has no attribute 'name'"
     ]
    }
   ],
   "source": [
    "env.close"
   ]
  },
  {
   "cell_type": "markdown",
   "id": "b1e61706-d08c-423e-b224-6bc922fe2dce",
   "metadata": {
    "slideshow": {
     "slide_type": "slide"
    },
    "tags": []
   },
   "source": [
    "<div style=\"font-family: 'Helvetica Neue', Arial, sans-serif;\">\n",
    "\n",
    "<h1 style=\"border-bottom: 2px solid #ddd; padding-bottom: 10px;\">Kinematic Calibration:</h1>\n",
    "    \n",
    "<p>Steps to do:</p>\n",
    "<ul>\n",
    "    <li class=\"fragment\">Data Generation with Lasertracker</li>\n",
    "    <li class=\"fragment\">Formulation of the Optimization Problem.</li>\n",
    "    <li class=\"fragment\">Linearization of Forward Position Kinematics.</li>\n",
    "    <li class=\"fragment\">Iterative Optimization of the kinematic Parameters.</li>\n",
    "    <li class=\"fragment\">validation of new model.</li>\n",
    "</ul>\n",
    "</div>"
   ]
  },
  {
   "cell_type": "markdown",
   "id": "7466ab84-adcd-403b-8013-b23751e6026e",
   "metadata": {
    "slideshow": {
     "slide_type": "slide"
    },
    "tags": []
   },
   "source": [
    "<div style=\"font-family: 'Helvetica Neue', Arial, sans-serif;\">\n",
    "\n",
    "<h1 style=\"border-bottom: 2px solid #ddd; padding-bottom: 10px;\">Open Loop Calibration: Data Generation</h1>\n",
    "    \n",
    "<p>Move the robot in different positions and measure the TCP Position</p>\n",
    "    \n",
    "Only take into account the measured translation $t_{meas}$, orientation cannot be measured with a lasertracker.\n",
    "\n",
    "$$t_{meas} = \\begin{bmatrix}\n",
    "x_{meas}^1 & y_{meas}^1 & z_{meas}^1 & x_{meas}^2 & y_{meas}^2 & z_{meas}^2 & \\dots & x_{meas}^{20} & y_{meas}^{20} & z_{meas}^{20}\n",
    "\\end{bmatrix}^T$$\n",
    "    \n",
    "$Q$ are the stacked measured Joint position angles:\n",
    "    \n",
    "$$Q = \\begin{bmatrix}\n",
    "\\theta_{1}^1 & \\theta_{2}^1 & \\theta_{3}^1 & \\theta_{4}^1 & \\theta_{5}^1 & \\theta_{6}^1 & \\theta_{7}^1 \\\\\n",
    "\\theta_{1}^2 & \\theta_{2}^2 & \\theta_{3}^2 & \\theta_{4}^2 & \\theta_{5}^2 & \\theta_{6}^2 & \\theta_{7}^2 \\\\\n",
    "\\vdots & \\vdots & \\vdots & \\vdots & \\vdots & \\vdots & \\vdots \\\\\n",
    "\\theta_{1}^{20} & \\theta_{2}^{20} & \\theta_{3}^{20} & \\theta_{4}^{20} & \\theta_{5}^{20} & \\theta_{6}^{20} & \\theta_{7}^{20} \\\\\n",
    "\\end{bmatrix}$$\n",
    "</div>"
   ]
  },
  {
   "cell_type": "code",
   "execution_count": 26,
   "id": "798c73b4-4b1c-45e4-85e3-2533b25de6d3",
   "metadata": {
    "jupyter": {
     "source_hidden": true
    },
    "slideshow": {
     "slide_type": "slide"
    },
    "tags": []
   },
   "outputs": [
    {
     "data": {
      "text/html": [
       "\n",
       "<div style=\"font-family: 'Helvetica Neue', Arial, sans-serif;\">\n",
       "\n",
       "    <h1 style=\"border-bottom: 2px solid #ddd; padding-bottom: 10px;\">Open Loop Calibration: Data Generation with Lasertracker</h1>\n",
       "\n",
       "    <div style=\"text-align: center;\">\n",
       "        <video width=\"1440\" height=\"810\" controls>\n",
       "            <source src=\"./data/calibration.mp4\" type=\"video/mp4\">\n",
       "        </video>\n",
       "    </div>\n",
       "    \n",
       "</div>\n"
      ],
      "text/plain": [
       "<IPython.core.display.HTML object>"
      ]
     },
     "metadata": {},
     "output_type": "display_data"
    }
   ],
   "source": [
    "html_content = \"\"\"\n",
    "<div style=\"font-family: 'Helvetica Neue', Arial, sans-serif;\">\n",
    "\n",
    "    <h1 style=\"border-bottom: 2px solid #ddd; padding-bottom: 10px;\">Open Loop Calibration: Data Generation with Lasertracker</h1>\n",
    "\n",
    "    <div style=\"text-align: center;\">\n",
    "        <video width=\"1440\" height=\"810\" controls>\n",
    "            <source src=\"./data/calibration.mp4\" type=\"video/mp4\">\n",
    "        </video>\n",
    "    </div>\n",
    "    \n",
    "</div>\n",
    "\"\"\"\n",
    "\n",
    "display(HTML(html_content))"
   ]
  },
  {
   "cell_type": "markdown",
   "id": "a3bfb982-0eb2-4d5f-86b6-f2856d1c1c79",
   "metadata": {
    "tags": []
   },
   "source": [
    "<div style=\"font-family: 'Helvetica Neue', Arial, sans-serif;\">\n",
    "\n",
    "<h1 style=\"border-bottom: 2px solid #ddd; padding-bottom: 10px;\">Open Loop Calibration: Data Generation Code Simulation</h1>\n",
    "    \n",
    "</div>"
   ]
  },
  {
   "cell_type": "code",
   "execution_count": 28,
   "id": "c11f1d7a-8ac9-45a0-90bc-e44e9faa56ae",
   "metadata": {
    "tags": []
   },
   "outputs": [
    {
     "ename": "NameError",
     "evalue": "name 'maira_real' is not defined",
     "output_type": "error",
     "traceback": [
      "\u001b[1;31m---------------------------------------------------------------------------\u001b[0m",
      "\u001b[1;31mNameError\u001b[0m                                 Traceback (most recent call last)",
      "Cell \u001b[1;32mIn[28], line 15\u001b[0m\n\u001b[0;32m     11\u001b[0m     q7 \u001b[38;5;241m=\u001b[39m random\u001b[38;5;241m.\u001b[39muniform(\u001b[38;5;241m-\u001b[39mnp\u001b[38;5;241m.\u001b[39mpi, np\u001b[38;5;241m.\u001b[39mpi)\n\u001b[0;32m     13\u001b[0m     joint_angles \u001b[38;5;241m=\u001b[39m np\u001b[38;5;241m.\u001b[39marray([q1, q2, q3, q4, q5, q6, q7])\n\u001b[1;32m---> 15\u001b[0m     t_meas_list\u001b[38;5;241m.\u001b[39mappend(maira_real\u001b[38;5;241m.\u001b[39mfkine(joint_angles)\u001b[38;5;241m.\u001b[39mt)\n\u001b[0;32m     16\u001b[0m     Q\u001b[38;5;241m.\u001b[39mappend(joint_angles)\n\u001b[0;32m     18\u001b[0m t_meas \u001b[38;5;241m=\u001b[39m np\u001b[38;5;241m.\u001b[39mvstack(t_meas_list)\u001b[38;5;241m.\u001b[39mflatten()\n",
      "\u001b[1;31mNameError\u001b[0m: name 'maira_real' is not defined"
     ]
    }
   ],
   "source": [
    "t_meas_list = []\n",
    "Q = []\n",
    "\n",
    "for i in range(20):\n",
    "    q1 = random.uniform(-np.pi, np.pi)\n",
    "    q2 = random.uniform(-np.pi*120/180, np.pi*120/180)\n",
    "    q3 = random.uniform(-np.pi, np.pi)\n",
    "    q4 = random.uniform(-np.pi*150/180, np.pi*150/180)\n",
    "    q5 = random.uniform(-np.pi, np.pi)\n",
    "    q6 = random.uniform(-np.pi*150/180, np.pi*150/180)\n",
    "    q7 = random.uniform(-np.pi, np.pi)\n",
    "    \n",
    "    joint_angles = np.array([q1, q2, q3, q4, q5, q6, q7])\n",
    "\n",
    "    t_meas_list.append(maira_real.fkine(joint_angles).t)\n",
    "    Q.append(joint_angles)\n",
    "\n",
    "t_meas = np.vstack(t_meas_list).flatten()\n",
    "\n",
    "print(np.array(Q))"
   ]
  },
  {
   "cell_type": "code",
   "execution_count": null,
   "id": "517ad203-0dc8-466b-b960-434ed58a1ea3",
   "metadata": {
    "tags": []
   },
   "outputs": [],
   "source": []
  },
  {
   "cell_type": "markdown",
   "id": "5779f00b-aafa-49d1-88e4-23ae92e8e6f7",
   "metadata": {
    "slideshow": {
     "slide_type": "slide"
    },
    "tags": []
   },
   "source": [
    "<div style=\"font-family: 'Helvetica Neue', Arial, sans-serif;\">\n",
    "<h1 style=\"border-bottom: 2px solid #ddd; padding-bottom: 10px;\">Open Loop Calibration: Formulation of the Optimization Problem</h1>\n",
    "<h3>The <strong>Optimization Problem </strong> for each joint configuration $Q^i$</h3>\n",
    "\n",
    "$$\n",
    "\\underset{p}{\\text{minimize}} \\| t_{meas}^i - FK(Q^i, p) \\|\n",
    "$$\n",
    "    \n",
    "solvable with iterative optimization:\n",
    "$$\n",
    "p_{\\text{new}} = p_{\\text{old}} + J^{i\\dagger}\\delta t^i\n",
    "$$\n",
    "    \n",
    "<h3>The <strong>Jacobian</strong></h3>\n",
    "<p>   \n",
    "Linear Map of $\\delta p \\to \\delta t^i$:\n",
    "    \n",
    "$$\n",
    "\\delta t^i = J^i \\delta p\n",
    "$$\n",
    "\n",
    "The Jacobian $J^i$ is defined as:\n",
    "\n",
    "$$\n",
    "J^i = \\begin{bmatrix}\n",
    "\\frac{\\partial x^i}{\\partial p} & \\frac{\\partial y^i}{\\partial p} & \\frac{\\partial z^i}{\\partial p}\n",
    "\\end{bmatrix}^T\n",
    "$$\n",
    "    \n",
    "What is needed to calculate the Jacobian $J^i$? $\\to$ <strong>parameter dependant Forward Position Kinematics</strong>\n",
    "</p>\n",
    "</div>"
   ]
  },
  {
   "cell_type": "code",
   "execution_count": 29,
   "id": "60b716ac-206b-4857-a06c-a0850cb914ed",
   "metadata": {
    "slideshow": {
     "slide_type": "fragment"
    },
    "tags": []
   },
   "outputs": [
    {
     "name": "stdout",
     "output_type": "stream",
     "text": [
      "DualQuaternion(Real: Quaternion(0.474, 0.000, 0.738, 0.479), Dual: Quaternion(-0.391, 0.139, -0.141, 0.604))\n",
      "[0, 0, 0, 0, 0, 0, 0.438, 0, 0, 0, 0, 0, 0, 0.438, 0, 0, 0, 0, 0, 0, 1.138, 0, 0, 0, 0, 0, 0, 1.138, 0, 0, 0, 0, 0, 0, 1.8379999999999999, 0, 0, 0, 0, 0, 0, 1.8379999999999999, 0, 0, 0, 0, 0, 0, 1.8379999999999999, 0, 0, 1.9529999999999998]\n"
     ]
    }
   ],
   "source": [
    "def forward_kinematics(q, p):\n",
    "    z = [0,0,1]\n",
    "    y = [0,1,0]\n",
    "    \n",
    "    r1 = Rot_rpy(p[1], p[2], p[3]) @z\n",
    "    r2 = Rot_rpy(p[8], p[9], p[10])@y\n",
    "    r3 = Rot_rpy(p[15], p[16], p[17])@z\n",
    "    r4 = Rot_rpy(p[22], p[23], p[24])@y\n",
    "    r5 = Rot_rpy(p[29], p[30], p[31])@z\n",
    "    r6 = Rot_rpy(p[36], p[37], p[38])@y\n",
    "    r7 = Rot_rpy(p[43], p[44], p[45])@z\n",
    "    \n",
    "    x1 = DualQuaternion.exp(0.5*(q[0] + p[0])*DualQuaternion.screwAxis(*r1, p[4],  p[5],  p[6]))\n",
    "    x2 = DualQuaternion.exp(0.5*(q[1] + p[7])*DualQuaternion.screwAxis(*r2, p[11], p[12], p[13]))\n",
    "    x3 = DualQuaternion.exp(0.5*(q[2] + p[14])*DualQuaternion.screwAxis(*r3, p[18], p[19], p[20]))\n",
    "    x4 = DualQuaternion.exp(0.5*(q[3] + p[21])*DualQuaternion.screwAxis(*r4, p[25], p[26], p[27]))\n",
    "    x5 = DualQuaternion.exp(0.5*(q[4] + p[28])*DualQuaternion.screwAxis(*r5, p[32], p[33], p[34]))\n",
    "    x6 = DualQuaternion.exp(0.5*(q[5] + p[35])*DualQuaternion.screwAxis(*r6, p[39], p[40], p[41]))\n",
    "    x7 = DualQuaternion.exp(0.5*(q[6] + p[42])*DualQuaternion.screwAxis(*r7, p[46], p[47], p[48]))\n",
    "    M = DualQuaternion.fromQuatPos(Quaternion(1,0,0,0), [p[49], p[50], p[51]])\n",
    "    \n",
    "    return x1*x2*x3*x4*x5*x6*x7*M\n",
    "\n",
    "\n",
    "\n",
    "d1 = 0.438\n",
    "d3 = d1 + 0.7\n",
    "d5 = d3 + 0.7\n",
    "d7 = d5 + 0.115\n",
    "\n",
    "p0 = [0,0,0,0,0,0,d1,0,0,0,0,0,0,d1,0,0,0,0,0,0,d3,0,0,0,0,0,0,d3,0,0,0,0,0,0,d5,0,0,0,0,0,0,d5,0,0,0,0,0,0,d5,0,0,d7]\n",
    "\n",
    "q = [0,1,1,1,0,0,0]\n",
    "T = forward_kinematics(q, p0)\n",
    "\n",
    "print(T)\n",
    "print(p0)"
   ]
  },
  {
   "cell_type": "code",
   "execution_count": null,
   "id": "39566135-12f1-41f5-ac8c-251d6143761f",
   "metadata": {},
   "outputs": [],
   "source": []
  },
  {
   "cell_type": "markdown",
   "id": "8cb59387-1c9d-4e97-8ae9-f3de0727033b",
   "metadata": {
    "slideshow": {
     "slide_type": "slide"
    },
    "tags": []
   },
   "source": [
    "<div style=\"font-family: 'Helvetica Neue', Arial, sans-serif;\">\n",
    "<h1 style=\"border-bottom: 2px solid #ddd; padding-bottom: 10px;\">Open Loop Kinematic Calibration: Linearization of Forward Position Kinematics</h1>\n",
    "\n",
    "<h3>Forward Position Kinematic partial derivative</h3>\n",
    "<p>   \n",
    "The Jacobian $J^i_k \\in \\mathbb{R}^{3 \\times 1}$ for joint configuration $ Q^i $ is calculated with finite differences:\n",
    "\n",
    "Perturb parameter $p_k$ by $\\pm h$ with $ h = 0.0001$, to get $p_{+}$ and $p_{-}$:\n",
    "\n",
    "$$\n",
    "p_{+}^k = \\begin{bmatrix}\n",
    "p_1 & p_2 & \\dots & p_k + h & \\dots & p_{n}\n",
    "\\end{bmatrix}^T\n",
    "$$\n",
    "\n",
    "$$\n",
    "p_{-}^k = \\begin{bmatrix}\n",
    "p_1 & p_2 & \\dots & p_k - h & \\dots & p_{n}\n",
    "\\end{bmatrix}^T\n",
    "$$\n",
    "\n",
    "with those 2 parameter vectors we can take the derivative\n",
    "\n",
    "$$ J^i_k = \\frac{dFK(Q^i,p)}{dp_k} \\approx \\frac{FK(Q^i,p_+^k) - FK(Q^i,p_-^k)}{2h}$$\n",
    "</p>\n",
    "</div>"
   ]
  },
  {
   "cell_type": "code",
   "execution_count": 6,
   "id": "10979632-c46e-4da0-a74d-053795746c9d",
   "metadata": {
    "slideshow": {
     "slide_type": "fragment"
    },
    "tags": []
   },
   "outputs": [
    {
     "ename": "NameError",
     "evalue": "name 'Q' is not defined",
     "output_type": "error",
     "traceback": [
      "\u001b[1;31m---------------------------------------------------------------------------\u001b[0m",
      "\u001b[1;31mNameError\u001b[0m                                 Traceback (most recent call last)",
      "Cell \u001b[1;32mIn[6], line 15\u001b[0m\n\u001b[0;32m     12\u001b[0m     d_pos \u001b[38;5;241m=\u001b[39m (T_1\u001b[38;5;241m.\u001b[39mgetPosition() \u001b[38;5;241m-\u001b[39m T_2\u001b[38;5;241m.\u001b[39mgetPosition())\u001b[38;5;241m/\u001b[39m(\u001b[38;5;241m2\u001b[39m\u001b[38;5;241m*\u001b[39mh)\n\u001b[0;32m     13\u001b[0m     \u001b[38;5;28;01mreturn\u001b[39;00m d_pos\n\u001b[1;32m---> 15\u001b[0m \u001b[38;5;28mprint\u001b[39m(fk_derivative(Q[\u001b[38;5;241m1\u001b[39m], p0, \u001b[38;5;241m2\u001b[39m))\n",
      "\u001b[1;31mNameError\u001b[0m: name 'Q' is not defined"
     ]
    }
   ],
   "source": [
    "def fk_derivative(q, p, k):\n",
    "    h = 0.0001\n",
    "    p_pos = p.copy()\n",
    "    p_neg = p.copy()\n",
    "    \n",
    "    p_pos[k] += h\n",
    "    p_neg[k] -= h\n",
    "    \n",
    "    T_1 = forward_kinematics(q, p_pos)\n",
    "    T_2 = forward_kinematics(q, p_neg)\n",
    "    \n",
    "    d_pos = (T_1.getPosition() - T_2.getPosition())/(2*h)\n",
    "    return d_pos\n",
    "\n",
    "print(fk_derivative(Q[1], p0, 2))"
   ]
  },
  {
   "cell_type": "code",
   "execution_count": null,
   "id": "0c9a05ab-1111-4313-afe4-c2873fed97b1",
   "metadata": {},
   "outputs": [],
   "source": []
  },
  {
   "cell_type": "markdown",
   "id": "18ddede4-e89d-41cb-a424-90a68fa2f495",
   "metadata": {
    "slideshow": {
     "slide_type": "slide"
    },
    "tags": []
   },
   "source": [
    "<div style=\"font-family: 'Helvetica Neue', Arial, sans-serif;\">\n",
    "<h1 style=\"border-bottom: 2px solid #ddd; padding-bottom: 10px;\">Open Loop Calibration: Linearization of Forward Position Kinematics</h1>\n",
    "\n",
    "<h4>Jacobian for joint configuration $Q^i$ and the whole parameterset $p$:</h4>\n",
    "<p>   \n",
    "To get the full Jacobian for a single pose $J^i \\in \\mathbb{R}^{3 \\times m}$, with the number of parameters $m$, we iterate over all parameters and stack the Jacobians $J^i_k$ into a single Matrix.\n",
    "    \n",
    "$$J^i = \\begin{bmatrix}\n",
    "J_1^i & J_2^i & J_3^i & \\dots & J_{m-1}^i & J_m^i\n",
    "\\end{bmatrix}$$\n",
    "</p>\n",
    "</div>"
   ]
  },
  {
   "cell_type": "code",
   "execution_count": 20,
   "id": "21febacb-2a16-47b8-91f9-1c684a0e549e",
   "metadata": {
    "slideshow": {
     "slide_type": "fragment"
    },
    "tags": []
   },
   "outputs": [
    {
     "ename": "NameError",
     "evalue": "name 'Q' is not defined",
     "output_type": "error",
     "traceback": [
      "\u001b[1;31m---------------------------------------------------------------------------\u001b[0m",
      "\u001b[1;31mNameError\u001b[0m                                 Traceback (most recent call last)",
      "Cell \u001b[1;32mIn[20], line 9\u001b[0m\n\u001b[0;32m      5\u001b[0m         J[:, i] \u001b[38;5;241m=\u001b[39m fk_derivative(q,p,i)\u001b[38;5;241m.\u001b[39mflatten()\n\u001b[0;32m      7\u001b[0m     \u001b[38;5;28;01mreturn\u001b[39;00m J\n\u001b[1;32m----> 9\u001b[0m \u001b[38;5;28mprint\u001b[39m(get_single_jacobian(Q[\u001b[38;5;241m1\u001b[39m], p0))\n",
      "\u001b[1;31mNameError\u001b[0m: name 'Q' is not defined"
     ]
    }
   ],
   "source": [
    "def get_single_jacobian(q,p):\n",
    "    \n",
    "    J = np.zeros((3, len(p)))\n",
    "    for i in range(len(p)):\n",
    "        J[:, i] = fk_derivative(q,p,i).flatten()\n",
    "    \n",
    "    return J\n",
    "\n",
    "print(get_single_jacobian(Q[1], p0))"
   ]
  },
  {
   "cell_type": "code",
   "execution_count": null,
   "id": "1580179d-85ec-4efb-949c-657bda03619c",
   "metadata": {},
   "outputs": [],
   "source": []
  },
  {
   "cell_type": "markdown",
   "id": "7e0116a5-799b-4f30-914e-ad514a939b49",
   "metadata": {
    "slideshow": {
     "slide_type": "slide"
    },
    "tags": []
   },
   "source": [
    "<div style=\"font-family: 'Helvetica Neue', Arial, sans-serif;\">\n",
    "<h1 style=\"border-bottom: 2px solid #ddd; padding-bottom: 10px;\">Open Loop Calibration: The Jacobian</h1>\n",
    "\n",
    "<h4>Stacked Jacobian for all joint configurations $Q$:</h4>\n",
    "<p>   \n",
    "To get the full Jacobian for the whole Dataset we iterate over the 20 poses and stack the Jacobians $J^i$ into a single Jacobian Matrix $J \\in \\mathbb{R}^{3n \\times m}$.\n",
    "    \n",
    "$$J = \\begin{bmatrix}\n",
    "J^1 & J^2 & J^3 & \\dots & J^{19} & J^{20}\n",
    "\\end{bmatrix}^T$$\n",
    "</p>\n",
    "</div>"
   ]
  },
  {
   "cell_type": "code",
   "execution_count": 3,
   "id": "627ac6c2-d273-4945-bc04-46d407c94e92",
   "metadata": {
    "slideshow": {
     "slide_type": "fragment"
    },
    "tags": []
   },
   "outputs": [
    {
     "ename": "NameError",
     "evalue": "name 'Q' is not defined",
     "output_type": "error",
     "traceback": [
      "\u001b[1;31m---------------------------------------------------------------------------\u001b[0m",
      "\u001b[1;31mNameError\u001b[0m                                 Traceback (most recent call last)",
      "Cell \u001b[1;32mIn[3], line 8\u001b[0m\n\u001b[0;32m      4\u001b[0m         J[\u001b[38;5;241m3\u001b[39m\u001b[38;5;241m*\u001b[39mi:\u001b[38;5;241m3\u001b[39m\u001b[38;5;241m*\u001b[39mi\u001b[38;5;241m+\u001b[39m\u001b[38;5;241m3\u001b[39m, :] \u001b[38;5;241m=\u001b[39m get_single_jacobian(Q[i], p)\n\u001b[0;32m      6\u001b[0m     \u001b[38;5;28;01mreturn\u001b[39;00m J\n\u001b[1;32m----> 8\u001b[0m \u001b[38;5;28mprint\u001b[39m(get_Jacobian(Q, p0))\n",
      "\u001b[1;31mNameError\u001b[0m: name 'Q' is not defined"
     ]
    }
   ],
   "source": [
    "def get_Jacobian(Q, p):\n",
    "    J = np.zeros((3*len(Q), len(p)))\n",
    "    for i in range(len(Q)):\n",
    "        J[3*i:3*i+3, :] = get_single_jacobian(Q[i], p)\n",
    "        \n",
    "    return J\n",
    "\n",
    "print(get_Jacobian(Q, p0))"
   ]
  },
  {
   "cell_type": "code",
   "execution_count": null,
   "id": "53faad3a-fe2e-458e-acf3-b61e10837c7c",
   "metadata": {},
   "outputs": [],
   "source": []
  },
  {
   "cell_type": "markdown",
   "id": "49f26b37-1f5b-48fb-8da8-bfeac1035f6d",
   "metadata": {
    "slideshow": {
     "slide_type": "slide"
    },
    "tags": []
   },
   "source": [
    "<div style=\"font-family: 'Helvetica Neue', Arial, sans-serif;\">\n",
    "<h1 style=\"border-bottom: 2px solid #ddd; padding-bottom: 10px;\">Open Loop Calibration: The Pseudo Inverse</h1>\n",
    "\n",
    "<p>$J$ is rank-deficient, so we need to dampen the pseudo-inverse:</p>\n",
    "\n",
    "$$\n",
    "J^\\dagger = (J^TJ + \\lambda I)^{-1}J^T\n",
    "$$\n",
    "\n",
    "<p>Note:</p>\n",
    "<ul>\n",
    "    <li>as we have more equations than parameters $ J \\in \\mathbb{R}^{60 \\times 52}$, the righthand-side pseudo inverse is used</li>\n",
    "    <li>$\\lambda$ is a small value $(\\lambda = 0.0001)$</li>\n",
    "</ul>   \n",
    "<p>\n",
    "</div>"
   ]
  },
  {
   "cell_type": "code",
   "execution_count": null,
   "id": "fccb6dfe-19d9-4cdb-9dfc-3c04d20b559f",
   "metadata": {
    "tags": []
   },
   "outputs": [],
   "source": [
    "lamda = 0.0001\n",
    "\n",
    "J = get_Jacobian(Q, p0)\n",
    "\n",
    "I = np.eye(J.shape[1])\n",
    "J_damped_pinv = np.linalg.inv(J.T @ J + lamda*I) @ J.T\n",
    "\n",
    "print(J_damped_pinv)"
   ]
  },
  {
   "cell_type": "code",
   "execution_count": null,
   "id": "eeb74845-37ad-4586-ae49-e7811137fbdd",
   "metadata": {},
   "outputs": [],
   "source": []
  },
  {
   "cell_type": "markdown",
   "id": "76bdb44b-273d-4835-a440-de35b843d642",
   "metadata": {},
   "source": [
    "<div style=\"font-family: 'Helvetica Neue', Arial, sans-serif;\">\n",
    "<h1 style=\"border-bottom: 2px solid #ddd; padding-bottom: 10px;\">Open Loop Calibration: Computation of $\\delta t$</h1>\n",
    "\n",
    "<p>\n",
    "    \n",
    "The components of $\\delta t$ can be approximated with the measurements $t_{meas}^i$ and the Forward Position Kinematics evaluation $t_{FK}^i(Q^i, p_k)$ for each joint configuration $Q^i$ and each set of kinematic parameters $p_k$.\n",
    "    \n",
    "$$\n",
    "\\delta t^i \\approx t_{error}^{i} = t_{meas}^i - t_{FK}^i(Q^i, p_k) = \\begin{bmatrix}\n",
    "x_{meas}^{i} - x_{FK}^{i} \\\\\n",
    "y_{meas}^{i} - y_{FK}^{i} \\\\\n",
    "z_{meas}^{i} - z_{FK}^{i}\n",
    "\\end{bmatrix}\n",
    "$$\n",
    "</p>\n",
    "\n",
    "Recall:\n",
    "<ul>\n",
    "    <li>$t_{meas}^i$: Lasertracker position measurement of pose $i$</li>\n",
    "    <li>$t_{FK}^i(Q^i, p_k)$: Forward Position Kinematics evaluation of joint configuration $Q^i$ and parameter set $p_k$</li>\n",
    "</ul> \n",
    "\n",
    "    \n",
    "<p>\n",
    "</div>"
   ]
  },
  {
   "cell_type": "markdown",
   "id": "65a6335e-051b-4a45-b33c-0c543f293b02",
   "metadata": {
    "slideshow": {
     "slide_type": "slide"
    },
    "tags": []
   },
   "source": [
    "<h1 style=\"font-family: 'Helvetica Neue', Arial, sans-serif; border-bottom: 2px solid #ddd; padding-bottom: 10px;\">Open Loop Calibration: Iterative Optimization</h1>\n",
    "\n",
    "<div style=\"font-family: 'Helvetica Neue', Arial, sans-serif; display: flex; justify-content: space-between;\">\n",
    "<!-- Left column for text -->\n",
    "<div style=\"width: 58%;\">\n",
    "    \n",
    "<h2> Why do we need to iterate? </h2>\n",
    "<p>\n",
    "if the discrepency between the default parameters $p_0$ and the final parameters $p_k$ is high, the Linear approximation of the nonlinear Forward Kinematics is bad.\n",
    "</p> \n",
    "\n",
    "<h2> Optimization Steps: </h2>  \n",
    "</p>\n",
    "<ul>\n",
    "    <li><strong>Initialization</strong>: initialize parameter vector $p$ from default parameters.</li>\n",
    "    <li><strong>Loop:</strong>\n",
    "    <ul>\n",
    "        <li><strong>Forward Kinematics</strong>: calculate $t_{FK}(Q, p_k)$ from current parameters $p_k$.</li>\n",
    "        <li><strong>Error calculation</strong>: compute $\\delta t \\approx t_{meas} - t_{FK}$</li>\n",
    "        <li><strong>Update Parameters</strong>: compute new set of parameters $p_{k+1} = p_{k} + J^\\dagger \\delta t$</li>\n",
    "        <li><strong>Break</strong>: break if $\\| \\delta t \\| < eps$, else repeat.</li>\n",
    "    </ul>  \n",
    "    </li>\n",
    "    <li><strong>Return Solution</strong> return last parametervector $p_k$</li>\n",
    "</ul>   \n",
    "    \n",
    "</div>\n",
    "\n",
    "<!-- Right column for image -->\n",
    "<div style=\"width: 38%;\">\n",
    "    <img src=\"./data/linearization.png\" alt=\"calibration scheme\" style=\"max-width: 700px; width: 100%; display: block; margin-left: auto; margin-right: auto;margin-top: 100px;\">\n",
    "    <p style=\"text-align: center; font-style: italic; margin-top: 10px;\">Linearization of Nonlinear Function simple example</p>\n",
    "</div>\n",
    "\n",
    "</div>"
   ]
  },
  {
   "cell_type": "code",
   "execution_count": 30,
   "id": "fa5306dc-ac2c-423d-8a91-27840adbe8df",
   "metadata": {
    "tags": []
   },
   "outputs": [
    {
     "ename": "NameError",
     "evalue": "name 'p0' is not defined",
     "output_type": "error",
     "traceback": [
      "\u001b[1;31m---------------------------------------------------------------------------\u001b[0m",
      "\u001b[1;31mNameError\u001b[0m                                 Traceback (most recent call last)",
      "Cell \u001b[1;32mIn[30], line 1\u001b[0m\n\u001b[1;32m----> 1\u001b[0m p \u001b[38;5;241m=\u001b[39m p0\u001b[38;5;241m.\u001b[39mcopy()\n\u001b[0;32m      3\u001b[0m u \u001b[38;5;241m=\u001b[39m \u001b[38;5;241m0.0001\u001b[39m\n\u001b[0;32m      5\u001b[0m max_iter \u001b[38;5;241m=\u001b[39m \u001b[38;5;241m100\u001b[39m\n",
      "\u001b[1;31mNameError\u001b[0m: name 'p0' is not defined"
     ]
    }
   ],
   "source": [
    "p_calibrated = p0.copy()\n",
    "\n",
    "u = 0.0001\n",
    "\n",
    "max_iter = 100\n",
    "for k in range(max_iter):\n",
    "\n",
    "    t_FK_list = []\n",
    "    for i in range(len(Q)):\n",
    "        t_FK_list.append(forward_kinematics(Q[i], p_calibrated).getPosition().flatten())\n",
    "        \n",
    "    t_FK = np.vstack(t_FK_list).flatten()\n",
    "    dt = t_meas - t_FK\n",
    "    \n",
    "    error_norm = np.linalg.norm(dt)\n",
    "    \n",
    "    print(error_norm)\n",
    "    if error_norm < 1e-8:\n",
    "        break\n",
    "\n",
    "    J = get_Jacobian(Q, p_calibrated)\n",
    "    \n",
    "    I = np.eye(J.shape[1])\n",
    "    J_inv = np.linalg.inv(J.T @ J + u * I) @ J.T \n",
    "    \n",
    "    p_calibrated += J_inv@dt\n",
    "\n",
    "print(p_calibrated)"
   ]
  },
  {
   "cell_type": "code",
   "execution_count": null,
   "id": "23503faf-20d6-4b9e-91f0-51617091eddf",
   "metadata": {},
   "outputs": [],
   "source": []
  },
  {
   "cell_type": "markdown",
   "id": "32d52a87-6946-4c5b-a93e-0cf86be7b1b6",
   "metadata": {
    "slideshow": {
     "slide_type": "slide"
    },
    "tags": []
   },
   "source": [
    "<div style=\"font-family: 'Helvetica Neue', Arial, sans-serif;\">\n",
    "<h1 style=\"border-bottom: 2px solid #ddd; padding-bottom: 10px;\">Open Loop Calibration: Validation of new Parameterset $p_k$</h1>\n",
    "\n",
    "</div>"
   ]
  },
  {
   "cell_type": "code",
   "execution_count": null,
   "id": "1fa4085b-c2ab-4ba4-b37a-975e1c887e49",
   "metadata": {
    "slideshow": {
     "slide_type": "fragment"
    },
    "tags": []
   },
   "outputs": [],
   "source": [
    "# add function to update the model and the 'real' robot\n",
    "def updateRobot_calibrated(q1, q2, q3, q4, q5, q6, q7):\n",
    "    \n",
    "    joint_angles = np.array([q1, q2, q3, q4, q5, q6, q7])\n",
    "    \n",
    "    maira_real.q = joint_angles\n",
    "    \n",
    "    T_ee_model.T = forward_kinematics(joint_angles, p).asTransformation()\n",
    "    T_ee_real.T = maira_real.fkine(maira_real.q)\n",
    "    \n",
    "    env.step()\n",
    "\n",
    "# Make and instance of the Swift simulator and open it\n",
    "env = Swift()\n",
    "env.launch(realtime=False, browser = \"notebook\")\n",
    "\n",
    "# Create 2 MAiRA models, one for the mathematical robot, on for the 'real' robot\n",
    "maira_real = rtb.models.URDF.Maira7Uncal()\n",
    "\n",
    "# For each robot show the TCP position as well\n",
    "T_ee_model = sg.Axes(0.15, pose = forward_kinematics(maira_real.q, p).asTransformation())\n",
    "T_ee_real = sg.Axes(0.15, pose = maira_real.fkine(maira_real.q))\n",
    "\n",
    "# Add model Robot to the environment\n",
    "env.add(maira_real)\n",
    "env.add(T_ee_model)\n",
    "env.add(T_ee_real)\n",
    "\n",
    "# display sliders to make the robot move\n",
    "show_sliders(updateRobot_calibrated)"
   ]
  },
  {
   "cell_type": "code",
   "execution_count": 49,
   "id": "ef145990-3e0a-4c04-96b5-52daa41b69f2",
   "metadata": {},
   "outputs": [
    {
     "name": "stderr",
     "output_type": "stream",
     "text": [
      "closing handshake failed\n",
      "Traceback (most recent call last):\n",
      "  File \"C:\\Users\\jens\\anaconda3\\Lib\\site-packages\\websockets\\legacy\\server.py\", line 244, in handler\n",
      "    await self.close()\n",
      "  File \"C:\\Users\\jens\\anaconda3\\Lib\\site-packages\\websockets\\legacy\\protocol.py\", line 770, in close\n",
      "    await self.write_close_frame(Close(code, reason))\n",
      "  File \"C:\\Users\\jens\\anaconda3\\Lib\\site-packages\\websockets\\legacy\\protocol.py\", line 1236, in write_close_frame\n",
      "    await self.write_frame(True, OP_CLOSE, data, _state=State.CLOSING)\n",
      "  File \"C:\\Users\\jens\\anaconda3\\Lib\\site-packages\\websockets\\legacy\\protocol.py\", line 1209, in write_frame\n",
      "    await self.drain()\n",
      "  File \"C:\\Users\\jens\\anaconda3\\Lib\\site-packages\\websockets\\legacy\\protocol.py\", line 1198, in drain\n",
      "    await self.ensure_open()\n",
      "  File \"C:\\Users\\jens\\anaconda3\\Lib\\site-packages\\websockets\\legacy\\protocol.py\", line 939, in ensure_open\n",
      "    raise self.connection_closed_exc()\n",
      "websockets.exceptions.ConnectionClosedError: sent 1000 (OK); no close frame received\n"
     ]
    }
   ],
   "source": [
    "env.close()"
   ]
  },
  {
   "cell_type": "markdown",
   "id": "7d4ffc54-ce31-4621-8cca-b7d677bb9beb",
   "metadata": {
    "slideshow": {
     "slide_type": "slide"
    },
    "tags": []
   },
   "source": [
    "<div style=\"font-family: 'Helvetica Neue', Arial, sans-serif;padding: 150px; text-align: center;\">\n",
    "\n",
    "<!-- Introduction -->\n",
    "<div style=\"max-width: 1200px;font-family: 'Helvetica Neue', Arial, sans-serif; margin: 0 auto;\">\n",
    "    <!-- Making the headline a link to the Neura Robotics website -->\n",
    "    <h1 style=\"font-size: 6.5em; margin-bottom: 20px;\">Thank you for your Attention!</h1>\n",
    "\n",
    "</div>\n",
    "</div>\n",
    "\n",
    "<div style=\"font-family: 'Helvetica Neue', Arial, sans-serif;\">\n",
    "<h2 style=\"border-bottom: 2px solid #ddd; padding-bottom: 10px;\">Contact Information</h2>\n",
    "\n",
    "<!-- Lecturer: Jens Temminghoff -->\n",
    "<h4>Lecturer: Jens Temminghoff</h4>\n",
    "<p>jens.temminghoff@neura-robotics.com</p>\n",
    "\n",
    "<!-- Human Resources Department -->\n",
    "<h4>Human Resources: Florian Fackelmeyer</h4>\n",
    "<p>florian.fackelmeyer@neura-robotics.com</p>\n",
    "\n",
    "<!-- Company: Neura Robotics -->\n",
    "<h4>Neura Robotics</h4>\n",
    "<p>For more information, visit our <a href=\"https://www.neura-robotics.com\">official website</a> or contact our team directly. We're always eager to collaborate and bring new ideas to life!</p>\n",
    "</div>"
   ]
  }
 ],
 "metadata": {
  "kernelspec": {
   "display_name": "Python 3 (ipykernel)",
   "language": "python",
   "name": "python3"
  },
  "language_info": {
   "codemirror_mode": {
    "name": "ipython",
    "version": 3
   },
   "file_extension": ".py",
   "mimetype": "text/x-python",
   "name": "python",
   "nbconvert_exporter": "python",
   "pygments_lexer": "ipython3",
   "version": "3.11.5"
  }
 },
 "nbformat": 4,
 "nbformat_minor": 5
}
