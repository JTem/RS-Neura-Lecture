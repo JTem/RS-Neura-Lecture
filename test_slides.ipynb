{
 "cells": [
  {
   "cell_type": "markdown",
   "id": "d823866a-7155-46bc-9ce1-c7cabf5a62b8",
   "metadata": {
    "tags": []
   },
   "source": [
    "# slide 1"
   ]
  },
  {
   "cell_type": "markdown",
   "id": "63ccd9c7-845a-4de6-8887-1ef842c8ea02",
   "metadata": {},
   "source": [
    "# slide 2"
   ]
  }
 ],
 "metadata": {
  "kernelspec": {
   "display_name": "Python 3 (ipykernel)",
   "language": "python",
   "name": "python3"
  },
  "language_info": {
   "codemirror_mode": {
    "name": "ipython",
    "version": 3
   },
   "file_extension": ".py",
   "mimetype": "text/x-python",
   "name": "python",
   "nbconvert_exporter": "python",
   "pygments_lexer": "ipython3",
   "version": "3.11.5"
  }
 },
 "nbformat": 4,
 "nbformat_minor": 5
}
