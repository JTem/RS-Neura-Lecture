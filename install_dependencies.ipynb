{
 "cells": [
  {
   "cell_type": "code",
   "execution_count": 2,
   "id": "f2472917-3f82-4ecf-999a-c17efda201c3",
   "metadata": {},
   "outputs": [
    {
     "name": "stdout",
     "output_type": "stream",
     "text": [
      "Collecting neura-dual-quaternions\n",
      "  Obtaining dependency information for neura-dual-quaternions from https://files.pythonhosted.org/packages/47/79/bafdbd76145af02a57305d92e7dfb8350827b6cdec2567740ae0d411e515/neura_dual_quaternions-0.0.1-py3-none-any.whl.metadata\n",
      "  Using cached neura_dual_quaternions-0.0.1-py3-none-any.whl.metadata (505 bytes)\n",
      "Requirement already satisfied: numpy in c:\\users\\jens\\anaconda3\\lib\\site-packages (from neura-dual-quaternions) (1.24.3)\n",
      "Using cached neura_dual_quaternions-0.0.1-py3-none-any.whl (7.5 kB)\n",
      "Installing collected packages: neura-dual-quaternions\n",
      "Successfully installed neura-dual-quaternions-0.0.1\n",
      "Note: you may need to restart the kernel to use updated packages.\n",
      "Requirement already satisfied: neura-roboticstoolbox in c:\\users\\jens\\anaconda3\\lib\\site-packages (0.0.3)Note: you may need to restart the kernel to use updated packages.\n",
      "\n",
      "Requirement already satisfied: numpy>=1.17.4 in c:\\users\\jens\\anaconda3\\lib\\site-packages (from neura-roboticstoolbox) (1.24.3)\n",
      "Requirement already satisfied: spatialmath-python>=1.1.5 in c:\\users\\jens\\anaconda3\\lib\\site-packages (from neura-roboticstoolbox) (1.1.8)\n",
      "Requirement already satisfied: spatialgeometry>=1.0.0 in c:\\users\\jens\\anaconda3\\lib\\site-packages (from neura-roboticstoolbox) (1.1.0)\n",
      "Requirement already satisfied: pgraph-python in c:\\users\\jens\\anaconda3\\lib\\site-packages (from neura-roboticstoolbox) (0.6.2)\n",
      "Requirement already satisfied: scipy in c:\\users\\jens\\anaconda3\\lib\\site-packages (from neura-roboticstoolbox) (1.11.1)\n",
      "Requirement already satisfied: matplotlib in c:\\users\\jens\\anaconda3\\lib\\site-packages (from neura-roboticstoolbox) (3.7.2)\n",
      "Requirement already satisfied: ansitable in c:\\users\\jens\\anaconda3\\lib\\site-packages (from neura-roboticstoolbox) (0.9.7)\n",
      "Requirement already satisfied: neura-swift>=0.0.2 in c:\\users\\jens\\anaconda3\\lib\\site-packages (from neura-roboticstoolbox) (0.0.2)\n",
      "Requirement already satisfied: neura-rtb-data in c:\\users\\jens\\anaconda3\\lib\\site-packages (from neura-roboticstoolbox) (0.0.1)\n",
      "Requirement already satisfied: progress in c:\\users\\jens\\anaconda3\\lib\\site-packages (from neura-roboticstoolbox) (1.6)\n",
      "Requirement already satisfied: typing-extensions in c:\\users\\jens\\anaconda3\\lib\\site-packages (from neura-roboticstoolbox) (4.7.1)\n",
      "Requirement already satisfied: websockets in c:\\users\\jens\\anaconda3\\lib\\site-packages (from neura-swift>=0.0.2->neura-roboticstoolbox) (12.0)\n",
      "Requirement already satisfied: colored in c:\\users\\jens\\anaconda3\\lib\\site-packages (from ansitable->neura-roboticstoolbox) (2.2.3)\n",
      "Requirement already satisfied: contourpy>=1.0.1 in c:\\users\\jens\\anaconda3\\lib\\site-packages (from matplotlib->neura-roboticstoolbox) (1.0.5)\n",
      "Requirement already satisfied: cycler>=0.10 in c:\\users\\jens\\anaconda3\\lib\\site-packages (from matplotlib->neura-roboticstoolbox) (0.11.0)\n",
      "Requirement already satisfied: fonttools>=4.22.0 in c:\\users\\jens\\anaconda3\\lib\\site-packages (from matplotlib->neura-roboticstoolbox) (4.25.0)\n",
      "Requirement already satisfied: kiwisolver>=1.0.1 in c:\\users\\jens\\anaconda3\\lib\\site-packages (from matplotlib->neura-roboticstoolbox) (1.4.4)\n",
      "Requirement already satisfied: packaging>=20.0 in c:\\users\\jens\\anaconda3\\lib\\site-packages (from matplotlib->neura-roboticstoolbox) (23.1)\n",
      "Requirement already satisfied: pillow>=6.2.0 in c:\\users\\jens\\anaconda3\\lib\\site-packages (from matplotlib->neura-roboticstoolbox) (9.4.0)\n",
      "Requirement already satisfied: pyparsing<3.1,>=2.3.1 in c:\\users\\jens\\anaconda3\\lib\\site-packages (from matplotlib->neura-roboticstoolbox) (3.0.9)\n",
      "Requirement already satisfied: python-dateutil>=2.7 in c:\\users\\jens\\anaconda3\\lib\\site-packages (from matplotlib->neura-roboticstoolbox) (2.8.2)\n",
      "Requirement already satisfied: six>=1.5 in c:\\users\\jens\\anaconda3\\lib\\site-packages (from python-dateutil>=2.7->matplotlib->neura-roboticstoolbox) (1.16.0)\n"
     ]
    }
   ],
   "source": [
    "%pip install neura-dual-quaternions\n",
    "%pip install neura-roboticstoolbox"
   ]
  },
  {
   "cell_type": "code",
   "execution_count": null,
   "id": "ad234258-7935-49d4-92dc-23354af8bf46",
   "metadata": {},
   "outputs": [],
   "source": []
  }
 ],
 "metadata": {
  "kernelspec": {
   "display_name": "Python 3 (ipykernel)",
   "language": "python",
   "name": "python3"
  },
  "language_info": {
   "codemirror_mode": {
    "name": "ipython",
    "version": 3
   },
   "file_extension": ".py",
   "mimetype": "text/x-python",
   "name": "python",
   "nbconvert_exporter": "python",
   "pygments_lexer": "ipython3",
   "version": "3.11.5"
  }
 },
 "nbformat": 4,
 "nbformat_minor": 5
}
