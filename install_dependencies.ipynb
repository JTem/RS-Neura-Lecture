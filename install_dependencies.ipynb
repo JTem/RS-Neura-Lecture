{
 "cells": [
  {
   "cell_type": "code",
   "execution_count": 1,
   "id": "f2472917-3f82-4ecf-999a-c17efda201c3",
   "metadata": {},
   "outputs": [
    {
     "name": "stdout",
     "output_type": "stream",
     "text": [
      "Requirement already satisfied: neura-dual-quaternions in c:\\users\\jens\\anaconda3\\lib\\site-packages (0.0.1)\n",
      "Requirement already satisfied: numpy in c:\\users\\jens\\anaconda3\\lib\\site-packages (from neura-dual-quaternions) (1.24.3)\n",
      "Note: you may need to restart the kernel to use updated packages.\n"
     ]
    }
   ],
   "source": [
    "# the library for dual-quaternion and quaternion maths\n",
    "%pip install neura-dual-quaternions\n",
    "\n",
    "# the library for Maira visualization (ref adapted from: roboticstoolbox-python from Peter Corke and Jesse Haviland)\n",
    "%pip install neura-roboticstoolbox"
   ]
  },
  {
   "cell_type": "code",
   "execution_count": 2,
   "id": "ad234258-7935-49d4-92dc-23354af8bf46",
   "metadata": {},
   "outputs": [
    {
     "name": "stdout",
     "output_type": "stream",
     "text": [
      "Requirement already satisfied: neura-dual-quaternions in c:\\users\\jens\\anaconda3\\lib\\site-packages (0.0.1)\n",
      "Collecting neura-dual-quaternions\n",
      "  Obtaining dependency information for neura-dual-quaternions from https://files.pythonhosted.org/packages/a5/1a/41d5d7a38628b0af45699e2208ad52e38974c4db52f6aeb39419c5cce26a/neura_dual_quaternions-0.0.2-py3-none-any.whl.metadata\n",
      "  Downloading neura_dual_quaternions-0.0.2-py3-none-any.whl.metadata (505 bytes)\n",
      "Requirement already satisfied: numpy in c:\\users\\jens\\anaconda3\\lib\\site-packages (from neura-dual-quaternions) (1.24.3)\n",
      "Downloading neura_dual_quaternions-0.0.2-py3-none-any.whl (7.5 kB)\n",
      "Installing collected packages: neura-dual-quaternions\n",
      "  Attempting uninstall: neura-dual-quaternions\n",
      "    Found existing installation: neura-dual-quaternions 0.0.1\n",
      "    Uninstalling neura-dual-quaternions-0.0.1:\n",
      "      Successfully uninstalled neura-dual-quaternions-0.0.1\n",
      "Successfully installed neura-dual-quaternions-0.0.2\n",
      "Note: you may need to restart the kernel to use updated packages.\n"
     ]
    }
   ],
   "source": [
    "pip install --upgrade neura-dual-quaternions"
   ]
  },
  {
   "cell_type": "code",
   "execution_count": null,
   "id": "f3397ee5-8a56-4996-9f47-686683906dc4",
   "metadata": {},
   "outputs": [],
   "source": []
  }
 ],
 "metadata": {
  "kernelspec": {
   "display_name": "Python 3 (ipykernel)",
   "language": "python",
   "name": "python3"
  },
  "language_info": {
   "codemirror_mode": {
    "name": "ipython",
    "version": 3
   },
   "file_extension": ".py",
   "mimetype": "text/x-python",
   "name": "python",
   "nbconvert_exporter": "python",
   "pygments_lexer": "ipython3",
   "version": "3.11.5"
  }
 },
 "nbformat": 4,
 "nbformat_minor": 5
}
